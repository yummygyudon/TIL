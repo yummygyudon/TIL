{
 "cells": [
  {
   "cell_type": "code",
   "execution_count": null,
   "id": "8b25cbae-2406-489f-aec6-5fbf37b556ab",
   "metadata": {},
   "outputs": [],
   "source": [
    "import pandas as pd\n",
    "import numpy as np\n",
    "import seaborn as sns\n",
    "import matplotlib.pyplot as plt\n",
    "import matplotlib"
   ]
  },
  {
   "cell_type": "code",
   "execution_count": null,
   "id": "5247bd5e-7dfa-4725-a9ac-3cd6b5318d13",
   "metadata": {},
   "outputs": [],
   "source": [
    "from matplotlib import font_manager, rc\n",
    "font_path = \"data/malgun.ttf\"   #폰트파일의 위치\n",
    "font_name = font_manager.FontProperties(fname=font_path).get_name()\n",
    "rc('font', family=font_name)"
   ]
  },
  {
   "cell_type": "markdown",
   "id": "d00efce9-b512-41b7-b8d3-bb18da2fc137",
   "metadata": {},
   "source": [
    "# 전체 인구 중 노인인구 현황\n",
    "## **노인인구 증감율 및 비율(통계)**\n",
    "### ※중간발표 PPT_주제선정 배경 1"
   ]
  },
  {
   "cell_type": "code",
   "execution_count": null,
   "id": "6d02040b-5063-46f2-9a2d-6128e0767630",
   "metadata": {},
   "outputs": [],
   "source": [
    "k_elders = pd.read_csv('./data/project/고령인구비율_시도_시_군_구.csv', encoding = \"ansi\", header=1)\n",
    "k_elders.columns = [\"연도\", '고령인구비율', '고령인구', '전체인구']\n",
    "k_elders['연도'] = k_elders['연도'].astype(str)\n",
    "k_elders['고령외인구'] = k_elders['전체인구']-k_elders['고령인구']\n",
    "k_elders['고령외인구비율'] = round(k_elders['고령외인구'] / k_elders['전체인구'] *100)\n",
    "k_elders.set_index('연도', inplace=True)"
   ]
  },
  {
   "cell_type": "code",
   "execution_count": null,
   "id": "7997fd06-ba5b-4600-b2e9-94e93671a408",
   "metadata": {},
   "outputs": [],
   "source": [
    "display(k_elders)\n",
    "print(k_elders.info())"
   ]
  },
  {
   "cell_type": "code",
   "execution_count": null,
   "id": "b9007cf1-b8f2-4a65-a54a-61143b56e0ed",
   "metadata": {
    "tags": []
   },
   "outputs": [],
   "source": [
    "#plt.figure(figsize=(20,10))\n",
    "#plt.bar(k_elders['연도'],k_elders['고령인구'], stacked=True)\n",
    "# k_elders[['고령인구','고령외인구']].plot(kind='bar', width=0.7, stacked=True)\n",
    "# #ax1 = df[['수력','화력']].plot(kind='bar', figsize=(20, 10), width=0.7, stacked=True)  \n",
    "# plt.title('2016년 ~ 2020년 연도별 노인인구 비율 증가 추세')\n",
    "\n",
    "#plt.ylim(0,60000000)\n",
    "\n",
    "plt.style.use('ggplot')\n",
    "# 2축 그래프 그리기\n",
    "ax1 = k_elders[['고령인구비율','고령외인구비율']].plot(kind='bar',figsize=(6,6), width=0.5, stacked=True, color = ['red', 'skyblue'])\n",
    "ax2 = ax1.twinx()\n",
    "ax2.plot(k_elders.index, k_elders.고령인구비율, ls='--', marker='o', markersize=10, \n",
    "         color='green', label='전년대비 증감율(%)')  \n",
    "\n",
    "ax1.set_ylim(0, 100)\n",
    "ax2.set_ylim(5, 20)\n",
    "\n",
    "for i, v in enumerate(k_elders.index):\n",
    "    plt.text(v, k_elders.고령인구비율[i], str(k_elders.고령인구비율[i])+'%',                 # 좌표 (x축 = v, y축 = y[0]..y[1], 표시 = y[0]..y[1])\n",
    "             fontsize = 20, \n",
    "             color='black',\n",
    "             horizontalalignment='center',  # horizontalalignment (left, center, right)\n",
    "             verticalalignment='top')\n",
    "\n",
    "ax1.set_xlabel('연도', size=15)\n",
    "ax1.set_ylabel('전체 인구 분포', size = 15)\n",
    "ax2.set_ylabel('전체 인구 대비 노인 인구(%)', size=15)\n",
    "plt.title('2016년~2020년 연도별 전체 인구 중 노인인구 비율')\n",
    "\n",
    "plt.savefig(\"data/project/output/2016년-2020년_연도별_전체_인구_중_노인인구_비율.png\", transparent=True)   \n",
    "\n",
    "\n",
    "# ax1.legend(loc='upper left')\n",
    "\n",
    "plt.show()"
   ]
  },
  {
   "cell_type": "code",
   "execution_count": null,
   "id": "e7ad1961-1bb7-4f97-9717-a62de91c06ae",
   "metadata": {
    "tags": []
   },
   "outputs": [],
   "source": [
    "ax1 = k_elders['고령인구'].plot(kind='bar',figsize=(20, 10), width=0.5, color = 'orange')\n",
    "ax2 = ax1.twinx()\n",
    "ax2.plot(k_elders.index, k_elders.고령인구비율, ls='--', marker='o', markersize=10, \n",
    "         color='green', label='전년대비 증감율(%)')  \n",
    "ax2.set_ylim(5, 20)\n",
    "ax1.set_xlabel('연도', size=10)\n",
    "ax1.set_ylabel('전체 노인 인구 수 (천 만명)', size = 10)\n",
    "ax2.set_ylabel('전체 인구 대비 노인 인구(%)', size=10)\n",
    "plt.title('2016년~2020년 연도별 노인 인구 수 및 노인인구 비율', size=15)\n",
    "\n",
    "plt.savefig(\"data/project/output/2016년~2020년_연도별_노인_인구_수_및_노인인구_비율.png\", transparent=True)   \n",
    "\n",
    "# plt.title('북한 전력 발전량 (1990 ~ 2016)', size=30)\n",
    "# ax1.legend(loc='upper left')\n",
    "\n",
    "plt.show()"
   ]
  },
  {
   "cell_type": "markdown",
   "id": "ff277f20-bebd-4591-9aa3-724f19de3502",
   "metadata": {},
   "source": [
    "## **노인시설 수 변화**"
   ]
  },
  {
   "cell_type": "code",
   "execution_count": null,
   "id": "18e874b5-2554-4a00-b453-48efeb799113",
   "metadata": {},
   "outputs": [],
   "source": [
    "#시설 수"
   ]
  },
  {
   "cell_type": "markdown",
   "id": "d0aa501a-a73e-451e-91cd-708ebb7b4d80",
   "metadata": {},
   "source": [
    "# 노인인구 및 치매환자 현황\n",
    "## **노인인구 중 치매노인 증감율 및 비율(통계)**\n",
    "### ※중간발표 PPT_주제선정 배경 2-1 + 서비스 대상 치매노인 이유 "
   ]
  },
  {
   "cell_type": "code",
   "execution_count": null,
   "id": "8de6c8ec-0136-4db4-b74e-913312dd344a",
   "metadata": {
    "tags": []
   },
   "outputs": [],
   "source": [
    "K_Year_Dementia_Pop = pd.read_excel('./data/project/완료(commit할때 다시 밖으로 빼기)/2016~2020_치매유형현황.xlsx', sheet_name='Sheet2',header=1,thousands = ',')\n",
    "K_Year_Elder_Pop = pd.read_excel('./data/project/완료(commit할때 다시 밖으로 빼기)/2016~2020_치매유형현황.xlsx', sheet_name = 'Sheet1',header=1,thousands = ',')\n",
    "#k_Dementia\n",
    "K_Year_Elder_Pop.columns = ['연도', '시도', '구', '성별', '연령', '노인인구수']\n",
    "K_Year_Dementia_Pop.columns = ['연도', '시도', '구', '성별', '연령', '치매환자수', '노인치매유병률']\n",
    "# display(K_Year_Elder_Pop)\n",
    "# print(K_Year_Elder_Pop.info())\n",
    "\n",
    "\n",
    "# Oject로 받아오기 때문에 astype 과 str.replace로 실수화\n",
    "K_Year_Elder_Pop['노인인구수'] = K_Year_Elder_Pop['노인인구수'].astype(int)\n",
    "K_Year_Dementia_Pop['치매환자수'] = K_Year_Dementia_Pop['치매환자수'].astype(int)\n",
    "K_Year_Dementia_Pop['노인치매유병률'] = K_Year_Dementia_Pop['노인치매유병률'].str.replace('%', '').astype(float)\n",
    "\n",
    "K_Year_Elder_Pop.drop(['성별'], axis=1, inplace=True)\n",
    "K_Year_Dementia_Pop.drop(['성별'], axis=1, inplace=True)\n",
    "\n",
    "\n",
    "## 서울 구별 노인인구 현황 및 치매노인 현황&유병률 \n",
    "Seoul_Year_Elder_Pop = K_Year_Elder_Pop.loc[K_Year_Elder_Pop['시도']=='서울특별시']\n",
    "Seoul_Year_Dementia_Pop = K_Year_Dementia_Pop.loc[K_Year_Dementia_Pop['시도']=='서울특별시']\n",
    "\n",
    "Seoul_Year_Dementia = pd.merge(Seoul_Year_Elder_Pop, Seoul_Year_Dementia_Pop)"
   ]
  },
  {
   "cell_type": "markdown",
   "id": "a79f5159-854c-4bc8-b74c-ee332159ab95",
   "metadata": {},
   "source": [
    "#### ▶ **한국 전체** 통계 그래프"
   ]
  },
  {
   "cell_type": "code",
   "execution_count": null,
   "id": "61330a69-a9bc-441c-a0d9-81d82189466d",
   "metadata": {
    "tags": []
   },
   "outputs": [],
   "source": [
    "K_Year_Elder_Pop.drop(['구'], axis=1, inplace=True)\n",
    "K_Year_Dementia_Pop.drop(['구'], axis=1, inplace=True)\n",
    "K_Year_Elder_Pop = K_Year_Elder_Pop.loc[K_Year_Elder_Pop['시도']=='전국']\n",
    "K_Year_Dementia_Pop = K_Year_Dementia_Pop.loc[K_Year_Dementia_Pop['시도']=='전국']\n",
    "\n",
    "K_Year_Dementia = pd.merge(K_Year_Elder_Pop, K_Year_Dementia_Pop)#[['치매환자수', '노인치매유병률']], how = 'left', on='연령')\n",
    "display(K_Year_Dementia)"
   ]
  },
  {
   "cell_type": "code",
   "execution_count": null,
   "id": "eec3ab05-8381-4ddb-9576-3fe25b6e1e9b",
   "metadata": {},
   "outputs": [],
   "source": [
    "K_Year_65Dementia = K_Year_Dementia.loc[K_Year_Dementia['연령']=='65세이상'].copy()\n",
    "K_Year_65Dementia['연도'] = K_Year_65Dementia['연도'].astype(str)\n",
    "K_Year_65Dementia = K_Year_65Dementia.set_index('연도')\n",
    "\n",
    "K_Year_60Dementia = K_Year_Dementia.loc[K_Year_Dementia['연령']=='60세이상'].copy()\n",
    "K_Year_60Dementia['연도'] = K_Year_60Dementia['연도'].astype(str)\n",
    "K_Year_60Dementia = K_Year_60Dementia.set_index('연도')"
   ]
  },
  {
   "cell_type": "code",
   "execution_count": null,
   "id": "0b351479-073b-4c7a-a52e-9b6eb688c941",
   "metadata": {},
   "outputs": [],
   "source": [
    "display(K_Year_60Dementia)\n",
    "print(K_Year_60Dementia.info())"
   ]
  },
  {
   "cell_type": "code",
   "execution_count": null,
   "id": "044bcc85-f33a-458d-b748-91a1e87726ea",
   "metadata": {},
   "outputs": [],
   "source": [
    "#plt.bar(x,K_Year_60Dementia['치매환자수']/K_Year_60Dementia['노인인구수']*100, color = 'brown', width=0.4, label = '치매 노인 인구', alpha=0.5)\n",
    "#plt.bar(x,K_Year_60Dementia['노인인구수']/K_Year_60Dementia['노인인구수']*100, color = 'orange', width=0.4, label = '총 노인 인구', alpha=0.5) #,bottom = K_Year_60Dementia['치매환자수'] 생략 (겹치기)\n",
    "\n",
    "ax1 = K_Year_60Dementia['치매환자수'].plot(kind='bar', figsize=(6,6), width=0.5, color = 'orange',  label = '치매 노인 인구')#, alpha= 0.8)\n",
    "ax2 = ax1.twinx()\n",
    "ax2.plot(K_Year_60Dementia.index, K_Year_60Dementia.노인치매유병률 , ls='--', marker='^', markersize=10, \n",
    "         color='brown', label='치매 유병률(%)')  \n",
    "\n",
    "\n",
    "for i, v in enumerate(K_Year_60Dementia.index):\n",
    "    plt.text(v, K_Year_60Dementia.노인치매유병률[i], str(K_Year_60Dementia.노인치매유병률[i])+'%',                 # 좌표 (x축 = v, y축 = y[0]..y[1], 표시 = y[0]..y[1])\n",
    "             fontsize = 15, \n",
    "             color='brown',\n",
    "             fontweight='bold',\n",
    "             horizontalalignment='right',  # horizontalalignment (left, center, right)\n",
    "             verticalalignment='top')\n",
    "\n",
    "ax2.set_ylim(6,7.5)\n",
    "\n",
    "ax1.set_xlabel('연도', size=15)\n",
    "ax1.set_ylabel('치매 노인 수', size = 15)\n",
    "ax2.set_ylabel('치매 유병률(%)', size=15)\n",
    "plt.title('2016년~2020년_전체_노인인구_치매_유병률')\n",
    "#plt.xticks(rotation=180)\n",
    "ax1.legend(loc='upper left')\n",
    "ax2.legend(loc='upper center')\n",
    "plt.savefig(\"data/project/output/2016년~2020년_60세 이상_노인인구_치매_유병률.png\", transparent=True)   \n",
    "\n",
    "# plt.title('북한 전력 발전량 (1990 ~ 2016)', size=30)\n",
    "\n",
    "\n",
    "plt.show()"
   ]
  },
  {
   "cell_type": "code",
   "execution_count": null,
   "id": "749e1a76-8bd8-4af0-b49a-3235e2ddf847",
   "metadata": {},
   "outputs": [],
   "source": [
    "ax1 = K_Year_65Dementia['치매환자수'].plot(kind='bar', figsize=(6,6), width=0.5, color = 'brown',  label = '65세 이상 \\n치매 노인 인구')#, alpha= 0.8)\n",
    "ax2 = ax1.twinx()\n",
    "ax2.plot(K_Year_65Dementia.index, K_Year_65Dementia.노인치매유병률 , ls='--', marker='^', markersize=10, \n",
    "         color='orange', label='치매 유병률(%)')  \n",
    "\n",
    "\n",
    "for i, v in enumerate(K_Year_65Dementia.index):\n",
    "    plt.text(v, K_Year_65Dementia.노인치매유병률[i], str(K_Year_65Dementia.노인치매유병률[i])+'%',                 # 좌표 (x축 = v, y축 = y[0]..y[1], 표시 = y[0]..y[1])\n",
    "             fontsize = 15, \n",
    "             color='#e68a00',\n",
    "             fontweight='bold',\n",
    "             horizontalalignment='right',  # horizontalalignment (left, center, right)\n",
    "             verticalalignment='top')\n",
    "\n",
    "ax2.set_ylim(9,10.5)\n",
    "ax1.set_xlabel('연도', size=15)\n",
    "ax1.set_ylabel('65세 이상 치매 노인 수', size = 15)\n",
    "ax2.set_ylabel('치매 유병률', size=15)\n",
    "plt.title('2016년~2020년 65세 이상 노인인구 치매 유병률')\n",
    "#plt.xticks(rotation=180)\n",
    "ax1.legend(loc='upper left')\n",
    "ax2.legend(loc='upper center')\n",
    "plt.savefig(\"data/project/output/2016년~2020년_노인인구_치매_유병률.png\", transparent=True)   \n",
    "\n",
    "\n",
    "\n",
    "plt.show()"
   ]
  },
  {
   "cell_type": "code",
   "execution_count": null,
   "id": "cdeeec21-6385-4edd-860a-dcea9341201f",
   "metadata": {},
   "outputs": [],
   "source": [
    "merge_outer = pd.merge(K_Year_60Dementia.reset_index(), K_Year_65Dementia.reset_index(), how='outer', on='연도')"
   ]
  },
  {
   "cell_type": "code",
   "execution_count": null,
   "id": "886f1edc-9cb5-46fe-8fdd-3e5399be457f",
   "metadata": {},
   "outputs": [],
   "source": [
    "merge_outer"
   ]
  },
  {
   "cell_type": "code",
   "execution_count": null,
   "id": "1ed83b4f-37e8-40a1-b77b-546152d90dba",
   "metadata": {},
   "outputs": [],
   "source": [
    "## 2020년 기준 전체 노인 中 노인인구수 中 치매환자 수\n",
    "# 노인 기준 : 65세 이상\n",
    "plt.figure(figsize=(10,6))\n",
    "ratio = [(51829023-8134674)/51829023* 100 , 8134674/51829023*100, 840191/51829023*100 ]\n",
    "labels = ['노인 외 인구', '노인 인구', '치매 노인 인구']\n",
    "explode = [0.05, 0.05, 0.1]\n",
    "colors = ['silver', 'gold', 'brown']\n",
    "\n",
    "plt.pie(ratio, labels=labels, autopct='%.1f%%',  counterclock=False, explode=explode, colors=colors)\n",
    "plt.show()\n",
    "plt.savefig(\"data/project/output/2020년_전체_인구_중_노인인구+치매노인_비율.png\")  "
   ]
  },
  {
   "cell_type": "code",
   "execution_count": null,
   "id": "29a93675-4e8b-41dc-8e63-3b5d45c56808",
   "metadata": {},
   "outputs": [],
   "source": [
    "plt.figure(figsize=(10,6))\n",
    "ratio = [(8134674-840191)/8134674*100, 840191/8134674*100 ]\n",
    "labels = ['노인 인구', '치매 노인 인구']\n",
    "colors = ['#ffc000', 'brown']\n",
    "wedgeprops={'width': 0.7, 'edgecolor': 'k', 'linewidth': 2}\n",
    "\n",
    "\n",
    "plt.pie(ratio, labels=labels, autopct='%.1f%%',  counterclock=False, colors=colors, wedgeprops=wedgeprops)\n",
    "plt.show()\n",
    "plt.savefig(\"data/project/output/2020년_노인인구_중_치매노인_비율.png\")  "
   ]
  },
  {
   "cell_type": "code",
   "execution_count": null,
   "id": "58033417-0f99-497a-9f8f-732a1beae91a",
   "metadata": {},
   "outputs": [],
   "source": [
    "ax1 = merge_outer[['노인인구수_x','노인인구수_y']].plot(kind='bar',figsize=(6,6), width=0.5, stacked=False, color = ['brown', 'orange'], label = ['전체 노인 인구', '65세 이상\\n 노인인구'])\n",
    "ax2 = ax1.twinx()\n",
    "ax2.plot(merge_outer['연도'], merge_outer[['노인치매유병률_x','노인치매유병률_y']], ls='--', marker='o', markersize=10, \n",
    "         color='red', label=['[전체 노인]치매 유병률(%)','[65세 이상 노인]치매 유병률(%)'] )  \n",
    "\n",
    "# ax1.set_ylim(0, 100)\n",
    "ax2.set_ylim(3, 11)\n",
    "\n",
    "for i, v in enumerate(merge_outer.노인치매유병률_x):\n",
    "    plt.text(v, merge_outer.노인치매유병률_x[i], str(merge_outer.노인치매유병률_x[i])+'%',                 # 좌표 (x축 = v, y축 = y[0]..y[1], 표시 = y[0]..y[1])\n",
    "             fontsize = 20, \n",
    "             color='black',\n",
    "             horizontalalignment='center',  # horizontalalignment (left, center, right)\n",
    "             verticalalignment='top')\n",
    "\n",
    "ax1.set_xlabel('연도', size=15)\n",
    "ax1.set_ylabel('전체 인구 분포', size = 15)\n",
    "ax2.set_ylabel('전체 인구 대비 노인 인구(%)', size=15)\n",
    "plt.title('2016년~2020년 연도별 전체 인구 중 노인인구 비율')\n",
    "\n",
    "plt.savefig(\"data/project/output/2016년-2020년_연도별_전체_인구_중_노인인구_비율.png\", transparent=True)   \n",
    "\n",
    "\n",
    "# ax1.legend(loc='upper left')\n",
    "\n",
    "plt.show()"
   ]
  }
 ],
 "metadata": {
  "kernelspec": {
   "display_name": "pydatavenv",
   "language": "python",
   "name": "pydatavenv"
  },
  "language_info": {
   "codemirror_mode": {
    "name": "ipython",
    "version": 3
   },
   "file_extension": ".py",
   "mimetype": "text/x-python",
   "name": "python",
   "nbconvert_exporter": "python",
   "pygments_lexer": "ipython3",
   "version": "3.8.12"
  }
 },
 "nbformat": 4,
 "nbformat_minor": 5
}
