{
 "cells": [
  {
   "cell_type": "code",
   "execution_count": 47,
   "id": "4b589b76-329c-4085-a51e-6a32bdb72d4f",
   "metadata": {},
   "outputs": [],
   "source": [
    "import urllib\n",
    "from bs4 import BeautifulSoup\n",
    "import json\n",
    "\n",
    "client_key = 'izGsqP2exeThwwEUVU3x'\n",
    "client_secret = 'WrwbQ1l6ZI'\n",
    "\n",
    "\n",
    "def naver_search(keyword, callType='JSON'):\n",
    "    \n",
    "    base = \"https://openapi.naver.com/v1/search/local.\"    \n",
    "    p_type = callType.lower()\n",
    "    param = \"?query=%s&display=5\"%urllib.parse.quote_plus(str(keyword))\n",
    "    \n",
    "    url = base+p_type+param\n",
    "    \n",
    "    request = urllib.request.Request(url)\n",
    "    request.add_header(\"X-Naver-Client-Id\", client_key)\n",
    "    request.add_header(\"X-Naver-Client-Secret\", client_secret)\n",
    "    res = urllib.request.urlopen(request)\n",
    "    \n",
    "    storeList =[]\n",
    "    if p_type == 'xml':\n",
    "        \n",
    "        \n",
    "        \n",
    "        dataList = BeautifulSoup(res.read().decode('utf-8'), features=\"xml\")\n",
    "        \n",
    "        for itemList in dataList.find_all('item'):\n",
    "            name = itemList.find('title').string\n",
    "            loc = itemList.find('address').string\n",
    "            \n",
    "            storeList.append((name,loc))\n",
    "            \n",
    "    else :\n",
    "        responseDcode = res.read().decode('utf-8')\n",
    "        dataList = json.loads(responseDcode)\n",
    "        \n",
    "        for itemList in dataList['items']:\n",
    "            name = itemList['title']\n",
    "            loc = itemList['address']\n",
    "            \n",
    "            storeList.append((name,loc))\n",
    "    \n",
    "    print(\"[ %s집에 대한 네이버 지역정보(%s) ]\"%(keyword, callType))\n",
    "    num = 1\n",
    "    for store in storeList:\n",
    "        print(num,\" : \",store[0],\",\",store[1])\n",
    "        num += 1\n",
    "    "
   ]
  },
  {
   "cell_type": "code",
   "execution_count": 49,
   "id": "8a289842-72d6-4e87-8ac4-3fe4214c288a",
   "metadata": {},
   "outputs": [
    {
     "name": "stdout",
     "output_type": "stream",
     "text": [
      "[ 짜장면집에 대한 네이버 지역정보(XML) ]\n",
      "1  :  란주라미엔 , 서울특별시 중구 충무로1가 25-9\n",
      "2  :  개화 , 서울특별시 중구 명동2가 107-1\n",
      "3  :  원흥 , 서울특별시 중구 다동 92\n",
      "4  :  일품향 , 서울특별시 중구 명동2가 105\n",
      "5  :  더 플라자 도원 , 서울특별시 중구 태평로2가 23\n"
     ]
    }
   ],
   "source": [
    "naver_search(\"짜장면\", \"XML\")"
   ]
  },
  {
   "cell_type": "code",
   "execution_count": 50,
   "id": "f512771c-660a-43ed-80a8-5115eb39e75f",
   "metadata": {},
   "outputs": [
    {
     "name": "stdout",
     "output_type": "stream",
     "text": [
      "[ 짜장면집에 대한 네이버 지역정보(JSON) ]\n",
      "1  :  란주라미엔 , 서울특별시 중구 충무로1가 25-9\n",
      "2  :  개화 , 서울특별시 중구 명동2가 107-1\n",
      "3  :  원흥 , 서울특별시 중구 다동 92\n",
      "4  :  일품향 , 서울특별시 중구 명동2가 105\n",
      "5  :  더 플라자 도원 , 서울특별시 중구 태평로2가 23\n"
     ]
    }
   ],
   "source": [
    "naver_search(\"짜장면\", \"JSON\")"
   ]
  }
 ],
 "metadata": {
  "kernelspec": {
   "display_name": "pydatavenv",
   "language": "python",
   "name": "pydatavenv"
  },
  "language_info": {
   "codemirror_mode": {
    "name": "ipython",
    "version": 3
   },
   "file_extension": ".py",
   "mimetype": "text/x-python",
   "name": "python",
   "nbconvert_exporter": "python",
   "pygments_lexer": "ipython3",
   "version": "3.8.11"
  }
 },
 "nbformat": 4,
 "nbformat_minor": 5
}
