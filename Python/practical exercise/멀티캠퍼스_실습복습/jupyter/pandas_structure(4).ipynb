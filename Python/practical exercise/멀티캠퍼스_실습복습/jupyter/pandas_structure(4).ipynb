{
 "cells": [
  {
   "cell_type": "code",
   "execution_count": 6,
   "id": "228ace63-f5a7-4358-aaa3-93a4eeb88fef",
   "metadata": {},
   "outputs": [],
   "source": [
    "import pandas as pd\n",
    "\n",
    "#1\n",
    "df = pd.read_csv('../data/emp.csv')"
   ]
  },
  {
   "cell_type": "code",
   "execution_count": 6,
   "id": "1b4a35ee-88d9-46c0-b4a1-7e07e8dd79d8",
   "metadata": {},
   "outputs": [
    {
     "data": {
      "text/html": [
       "<div>\n",
       "<style scoped>\n",
       "    .dataframe tbody tr th:only-of-type {\n",
       "        vertical-align: middle;\n",
       "    }\n",
       "\n",
       "    .dataframe tbody tr th {\n",
       "        vertical-align: top;\n",
       "    }\n",
       "\n",
       "    .dataframe thead th {\n",
       "        text-align: right;\n",
       "    }\n",
       "</style>\n",
       "<table border=\"1\" class=\"dataframe\">\n",
       "  <thead>\n",
       "    <tr style=\"text-align: right;\">\n",
       "      <th></th>\n",
       "      <th>empno</th>\n",
       "      <th>ename</th>\n",
       "      <th>job</th>\n",
       "      <th>mgr</th>\n",
       "      <th>hiredate</th>\n",
       "      <th>sal</th>\n",
       "      <th>comm</th>\n",
       "      <th>deptno</th>\n",
       "    </tr>\n",
       "  </thead>\n",
       "  <tbody>\n",
       "    <tr>\n",
       "      <th>0</th>\n",
       "      <td>7369</td>\n",
       "      <td>SMITH</td>\n",
       "      <td>CLERK</td>\n",
       "      <td>7902.0</td>\n",
       "      <td>1980-12-17</td>\n",
       "      <td>800</td>\n",
       "      <td>NaN</td>\n",
       "      <td>20</td>\n",
       "    </tr>\n",
       "    <tr>\n",
       "      <th>1</th>\n",
       "      <td>7499</td>\n",
       "      <td>ALLEN</td>\n",
       "      <td>SALESMAN</td>\n",
       "      <td>7698.0</td>\n",
       "      <td>1981-02-20</td>\n",
       "      <td>1600</td>\n",
       "      <td>300.0</td>\n",
       "      <td>30</td>\n",
       "    </tr>\n",
       "    <tr>\n",
       "      <th>2</th>\n",
       "      <td>7521</td>\n",
       "      <td>WARD</td>\n",
       "      <td>SALESMAN</td>\n",
       "      <td>7698.0</td>\n",
       "      <td>1981-02-03</td>\n",
       "      <td>1250</td>\n",
       "      <td>500.0</td>\n",
       "      <td>30</td>\n",
       "    </tr>\n",
       "    <tr>\n",
       "      <th>3</th>\n",
       "      <td>7566</td>\n",
       "      <td>JONES</td>\n",
       "      <td>MANAGER</td>\n",
       "      <td>7839.0</td>\n",
       "      <td>1981-03-02</td>\n",
       "      <td>2975</td>\n",
       "      <td>NaN</td>\n",
       "      <td>20</td>\n",
       "    </tr>\n",
       "    <tr>\n",
       "      <th>4</th>\n",
       "      <td>7654</td>\n",
       "      <td>MARTIN</td>\n",
       "      <td>SALESMAN</td>\n",
       "      <td>7698.0</td>\n",
       "      <td>1981-10-22</td>\n",
       "      <td>1250</td>\n",
       "      <td>1400.0</td>\n",
       "      <td>30</td>\n",
       "    </tr>\n",
       "    <tr>\n",
       "      <th>5</th>\n",
       "      <td>7698</td>\n",
       "      <td>BLAKE</td>\n",
       "      <td>MANAGER</td>\n",
       "      <td>7839.0</td>\n",
       "      <td>1981-05-01</td>\n",
       "      <td>2850</td>\n",
       "      <td>NaN</td>\n",
       "      <td>30</td>\n",
       "    </tr>\n",
       "    <tr>\n",
       "      <th>6</th>\n",
       "      <td>7782</td>\n",
       "      <td>CLARK</td>\n",
       "      <td>MANAGER</td>\n",
       "      <td>7839.0</td>\n",
       "      <td>1981-09-06</td>\n",
       "      <td>2450</td>\n",
       "      <td>NaN</td>\n",
       "      <td>10</td>\n",
       "    </tr>\n",
       "    <tr>\n",
       "      <th>7</th>\n",
       "      <td>7788</td>\n",
       "      <td>SCOTT</td>\n",
       "      <td>ANALYST</td>\n",
       "      <td>7566.0</td>\n",
       "      <td>1982-12-08</td>\n",
       "      <td>3000</td>\n",
       "      <td>NaN</td>\n",
       "      <td>20</td>\n",
       "    </tr>\n",
       "    <tr>\n",
       "      <th>8</th>\n",
       "      <td>7839</td>\n",
       "      <td>KING</td>\n",
       "      <td>PRESIDENT</td>\n",
       "      <td>NaN</td>\n",
       "      <td>1981-11-17</td>\n",
       "      <td>5000</td>\n",
       "      <td>NaN</td>\n",
       "      <td>10</td>\n",
       "    </tr>\n",
       "    <tr>\n",
       "      <th>9</th>\n",
       "      <td>7844</td>\n",
       "      <td>TURNER</td>\n",
       "      <td>SALESMAN</td>\n",
       "      <td>7698.0</td>\n",
       "      <td>1984-10-08</td>\n",
       "      <td>1500</td>\n",
       "      <td>NaN</td>\n",
       "      <td>30</td>\n",
       "    </tr>\n",
       "    <tr>\n",
       "      <th>10</th>\n",
       "      <td>7876</td>\n",
       "      <td>ADAMS</td>\n",
       "      <td>CLERK</td>\n",
       "      <td>7788.0</td>\n",
       "      <td>1983-01-12</td>\n",
       "      <td>1100</td>\n",
       "      <td>NaN</td>\n",
       "      <td>20</td>\n",
       "    </tr>\n",
       "    <tr>\n",
       "      <th>11</th>\n",
       "      <td>7900</td>\n",
       "      <td>JAMES</td>\n",
       "      <td>CLERK</td>\n",
       "      <td>7698.0</td>\n",
       "      <td>1981-12-03</td>\n",
       "      <td>950</td>\n",
       "      <td>NaN</td>\n",
       "      <td>30</td>\n",
       "    </tr>\n",
       "    <tr>\n",
       "      <th>12</th>\n",
       "      <td>7902</td>\n",
       "      <td>FORD</td>\n",
       "      <td>ANALYST</td>\n",
       "      <td>7566.0</td>\n",
       "      <td>1981-12-13</td>\n",
       "      <td>3000</td>\n",
       "      <td>NaN</td>\n",
       "      <td>20</td>\n",
       "    </tr>\n",
       "    <tr>\n",
       "      <th>13</th>\n",
       "      <td>7934</td>\n",
       "      <td>MILLER</td>\n",
       "      <td>CLERK</td>\n",
       "      <td>7782.0</td>\n",
       "      <td>1982-01-25</td>\n",
       "      <td>1300</td>\n",
       "      <td>NaN</td>\n",
       "      <td>10</td>\n",
       "    </tr>\n",
       "  </tbody>\n",
       "</table>\n",
       "</div>"
      ],
      "text/plain": [
       "    empno   ename        job     mgr    hiredate   sal    comm  deptno\n",
       "0    7369   SMITH      CLERK  7902.0  1980-12-17   800     NaN      20\n",
       "1    7499   ALLEN   SALESMAN  7698.0  1981-02-20  1600   300.0      30\n",
       "2    7521    WARD   SALESMAN  7698.0  1981-02-03  1250   500.0      30\n",
       "3    7566   JONES    MANAGER  7839.0  1981-03-02  2975     NaN      20\n",
       "4    7654  MARTIN   SALESMAN  7698.0  1981-10-22  1250  1400.0      30\n",
       "5    7698   BLAKE    MANAGER  7839.0  1981-05-01  2850     NaN      30\n",
       "6    7782   CLARK    MANAGER  7839.0  1981-09-06  2450     NaN      10\n",
       "7    7788   SCOTT    ANALYST  7566.0  1982-12-08  3000     NaN      20\n",
       "8    7839    KING  PRESIDENT     NaN  1981-11-17  5000     NaN      10\n",
       "9    7844  TURNER   SALESMAN  7698.0  1984-10-08  1500     NaN      30\n",
       "10   7876   ADAMS      CLERK  7788.0  1983-01-12  1100     NaN      20\n",
       "11   7900   JAMES      CLERK  7698.0  1981-12-03   950     NaN      30\n",
       "12   7902    FORD    ANALYST  7566.0  1981-12-13  3000     NaN      20\n",
       "13   7934  MILLER      CLERK  7782.0  1982-01-25  1300     NaN      10"
      ]
     },
     "metadata": {},
     "output_type": "display_data"
    },
    {
     "data": {
      "text/html": [
       "<div>\n",
       "<style scoped>\n",
       "    .dataframe tbody tr th:only-of-type {\n",
       "        vertical-align: middle;\n",
       "    }\n",
       "\n",
       "    .dataframe tbody tr th {\n",
       "        vertical-align: top;\n",
       "    }\n",
       "\n",
       "    .dataframe thead th {\n",
       "        text-align: right;\n",
       "    }\n",
       "</style>\n",
       "<table border=\"1\" class=\"dataframe\">\n",
       "  <thead>\n",
       "    <tr style=\"text-align: right;\">\n",
       "      <th></th>\n",
       "      <th>empno</th>\n",
       "      <th>ename</th>\n",
       "      <th>job</th>\n",
       "      <th>mgr</th>\n",
       "      <th>hiredate</th>\n",
       "      <th>sal</th>\n",
       "      <th>comm</th>\n",
       "      <th>deptno</th>\n",
       "    </tr>\n",
       "  </thead>\n",
       "  <tbody>\n",
       "    <tr>\n",
       "      <th>8</th>\n",
       "      <td>7839</td>\n",
       "      <td>KING</td>\n",
       "      <td>PRESIDENT</td>\n",
       "      <td>NaN</td>\n",
       "      <td>1981-11-17</td>\n",
       "      <td>5000</td>\n",
       "      <td>NaN</td>\n",
       "      <td>10</td>\n",
       "    </tr>\n",
       "    <tr>\n",
       "      <th>7</th>\n",
       "      <td>7788</td>\n",
       "      <td>SCOTT</td>\n",
       "      <td>ANALYST</td>\n",
       "      <td>7566.0</td>\n",
       "      <td>1982-12-08</td>\n",
       "      <td>3000</td>\n",
       "      <td>NaN</td>\n",
       "      <td>20</td>\n",
       "    </tr>\n",
       "    <tr>\n",
       "      <th>12</th>\n",
       "      <td>7902</td>\n",
       "      <td>FORD</td>\n",
       "      <td>ANALYST</td>\n",
       "      <td>7566.0</td>\n",
       "      <td>1981-12-13</td>\n",
       "      <td>3000</td>\n",
       "      <td>NaN</td>\n",
       "      <td>20</td>\n",
       "    </tr>\n",
       "    <tr>\n",
       "      <th>3</th>\n",
       "      <td>7566</td>\n",
       "      <td>JONES</td>\n",
       "      <td>MANAGER</td>\n",
       "      <td>7839.0</td>\n",
       "      <td>1981-03-02</td>\n",
       "      <td>2975</td>\n",
       "      <td>NaN</td>\n",
       "      <td>20</td>\n",
       "    </tr>\n",
       "    <tr>\n",
       "      <th>5</th>\n",
       "      <td>7698</td>\n",
       "      <td>BLAKE</td>\n",
       "      <td>MANAGER</td>\n",
       "      <td>7839.0</td>\n",
       "      <td>1981-05-01</td>\n",
       "      <td>2850</td>\n",
       "      <td>NaN</td>\n",
       "      <td>30</td>\n",
       "    </tr>\n",
       "    <tr>\n",
       "      <th>6</th>\n",
       "      <td>7782</td>\n",
       "      <td>CLARK</td>\n",
       "      <td>MANAGER</td>\n",
       "      <td>7839.0</td>\n",
       "      <td>1981-09-06</td>\n",
       "      <td>2450</td>\n",
       "      <td>NaN</td>\n",
       "      <td>10</td>\n",
       "    </tr>\n",
       "    <tr>\n",
       "      <th>1</th>\n",
       "      <td>7499</td>\n",
       "      <td>ALLEN</td>\n",
       "      <td>SALESMAN</td>\n",
       "      <td>7698.0</td>\n",
       "      <td>1981-02-20</td>\n",
       "      <td>1600</td>\n",
       "      <td>300.0</td>\n",
       "      <td>30</td>\n",
       "    </tr>\n",
       "    <tr>\n",
       "      <th>9</th>\n",
       "      <td>7844</td>\n",
       "      <td>TURNER</td>\n",
       "      <td>SALESMAN</td>\n",
       "      <td>7698.0</td>\n",
       "      <td>1984-10-08</td>\n",
       "      <td>1500</td>\n",
       "      <td>NaN</td>\n",
       "      <td>30</td>\n",
       "    </tr>\n",
       "    <tr>\n",
       "      <th>13</th>\n",
       "      <td>7934</td>\n",
       "      <td>MILLER</td>\n",
       "      <td>CLERK</td>\n",
       "      <td>7782.0</td>\n",
       "      <td>1982-01-25</td>\n",
       "      <td>1300</td>\n",
       "      <td>NaN</td>\n",
       "      <td>10</td>\n",
       "    </tr>\n",
       "    <tr>\n",
       "      <th>2</th>\n",
       "      <td>7521</td>\n",
       "      <td>WARD</td>\n",
       "      <td>SALESMAN</td>\n",
       "      <td>7698.0</td>\n",
       "      <td>1981-02-03</td>\n",
       "      <td>1250</td>\n",
       "      <td>500.0</td>\n",
       "      <td>30</td>\n",
       "    </tr>\n",
       "    <tr>\n",
       "      <th>4</th>\n",
       "      <td>7654</td>\n",
       "      <td>MARTIN</td>\n",
       "      <td>SALESMAN</td>\n",
       "      <td>7698.0</td>\n",
       "      <td>1981-10-22</td>\n",
       "      <td>1250</td>\n",
       "      <td>1400.0</td>\n",
       "      <td>30</td>\n",
       "    </tr>\n",
       "    <tr>\n",
       "      <th>10</th>\n",
       "      <td>7876</td>\n",
       "      <td>ADAMS</td>\n",
       "      <td>CLERK</td>\n",
       "      <td>7788.0</td>\n",
       "      <td>1983-01-12</td>\n",
       "      <td>1100</td>\n",
       "      <td>NaN</td>\n",
       "      <td>20</td>\n",
       "    </tr>\n",
       "    <tr>\n",
       "      <th>11</th>\n",
       "      <td>7900</td>\n",
       "      <td>JAMES</td>\n",
       "      <td>CLERK</td>\n",
       "      <td>7698.0</td>\n",
       "      <td>1981-12-03</td>\n",
       "      <td>950</td>\n",
       "      <td>NaN</td>\n",
       "      <td>30</td>\n",
       "    </tr>\n",
       "    <tr>\n",
       "      <th>0</th>\n",
       "      <td>7369</td>\n",
       "      <td>SMITH</td>\n",
       "      <td>CLERK</td>\n",
       "      <td>7902.0</td>\n",
       "      <td>1980-12-17</td>\n",
       "      <td>800</td>\n",
       "      <td>NaN</td>\n",
       "      <td>20</td>\n",
       "    </tr>\n",
       "  </tbody>\n",
       "</table>\n",
       "</div>"
      ],
      "text/plain": [
       "    empno   ename        job     mgr    hiredate   sal    comm  deptno\n",
       "8    7839    KING  PRESIDENT     NaN  1981-11-17  5000     NaN      10\n",
       "7    7788   SCOTT    ANALYST  7566.0  1982-12-08  3000     NaN      20\n",
       "12   7902    FORD    ANALYST  7566.0  1981-12-13  3000     NaN      20\n",
       "3    7566   JONES    MANAGER  7839.0  1981-03-02  2975     NaN      20\n",
       "5    7698   BLAKE    MANAGER  7839.0  1981-05-01  2850     NaN      30\n",
       "6    7782   CLARK    MANAGER  7839.0  1981-09-06  2450     NaN      10\n",
       "1    7499   ALLEN   SALESMAN  7698.0  1981-02-20  1600   300.0      30\n",
       "9    7844  TURNER   SALESMAN  7698.0  1984-10-08  1500     NaN      30\n",
       "13   7934  MILLER      CLERK  7782.0  1982-01-25  1300     NaN      10\n",
       "2    7521    WARD   SALESMAN  7698.0  1981-02-03  1250   500.0      30\n",
       "4    7654  MARTIN   SALESMAN  7698.0  1981-10-22  1250  1400.0      30\n",
       "10   7876   ADAMS      CLERK  7788.0  1983-01-12  1100     NaN      20\n",
       "11   7900   JAMES      CLERK  7698.0  1981-12-03   950     NaN      30\n",
       "0    7369   SMITH      CLERK  7902.0  1980-12-17   800     NaN      20"
      ]
     },
     "metadata": {},
     "output_type": "display_data"
    }
   ],
   "source": [
    "#2\n",
    "display(df)\n",
    "display(df.sort_values(by='sal', ascending=False))"
   ]
  },
  {
   "cell_type": "code",
   "execution_count": 7,
   "id": "2d7b1f2d-4ffb-4152-b9df-f8244a4a34f4",
   "metadata": {},
   "outputs": [
    {
     "name": "stdout",
     "output_type": "stream",
     "text": [
      "(14, 8)\n"
     ]
    }
   ],
   "source": [
    "#3\n",
    "print(df.shape)"
   ]
  },
  {
   "cell_type": "code",
   "execution_count": 8,
   "id": "fbb0087b-6dea-49a3-b779-ae19f5301caf",
   "metadata": {},
   "outputs": [
    {
     "name": "stdout",
     "output_type": "stream",
     "text": [
      "<class 'pandas.core.frame.DataFrame'>\n",
      "RangeIndex: 14 entries, 0 to 13\n",
      "Data columns (total 8 columns):\n",
      " #   Column    Non-Null Count  Dtype  \n",
      "---  ------    --------------  -----  \n",
      " 0   empno     14 non-null     int64  \n",
      " 1   ename     14 non-null     object \n",
      " 2   job       14 non-null     object \n",
      " 3   mgr       13 non-null     float64\n",
      " 4   hiredate  14 non-null     object \n",
      " 5   sal       14 non-null     int64  \n",
      " 6   comm      3 non-null      float64\n",
      " 7   deptno    14 non-null     int64  \n",
      "dtypes: float64(2), int64(3), object(3)\n",
      "memory usage: 1.0+ KB\n",
      "None\n"
     ]
    }
   ],
   "source": [
    "#4\n",
    "print(df.info())"
   ]
  },
  {
   "cell_type": "code",
   "execution_count": 9,
   "id": "b68d4775-16a1-482c-a6e6-d80402707645",
   "metadata": {},
   "outputs": [
    {
     "data": {
      "text/html": [
       "<div>\n",
       "<style scoped>\n",
       "    .dataframe tbody tr th:only-of-type {\n",
       "        vertical-align: middle;\n",
       "    }\n",
       "\n",
       "    .dataframe tbody tr th {\n",
       "        vertical-align: top;\n",
       "    }\n",
       "\n",
       "    .dataframe thead th {\n",
       "        text-align: right;\n",
       "    }\n",
       "</style>\n",
       "<table border=\"1\" class=\"dataframe\">\n",
       "  <thead>\n",
       "    <tr style=\"text-align: right;\">\n",
       "      <th></th>\n",
       "      <th>empno</th>\n",
       "      <th>mgr</th>\n",
       "      <th>sal</th>\n",
       "      <th>comm</th>\n",
       "      <th>deptno</th>\n",
       "    </tr>\n",
       "  </thead>\n",
       "  <tbody>\n",
       "    <tr>\n",
       "      <th>count</th>\n",
       "      <td>14.000000</td>\n",
       "      <td>13.000000</td>\n",
       "      <td>14.000000</td>\n",
       "      <td>3.000000</td>\n",
       "      <td>14.000000</td>\n",
       "    </tr>\n",
       "    <tr>\n",
       "      <th>mean</th>\n",
       "      <td>7726.571429</td>\n",
       "      <td>7739.307692</td>\n",
       "      <td>2073.214286</td>\n",
       "      <td>733.333333</td>\n",
       "      <td>22.142857</td>\n",
       "    </tr>\n",
       "    <tr>\n",
       "      <th>std</th>\n",
       "      <td>178.294361</td>\n",
       "      <td>103.714660</td>\n",
       "      <td>1182.503224</td>\n",
       "      <td>585.946528</td>\n",
       "      <td>8.017837</td>\n",
       "    </tr>\n",
       "    <tr>\n",
       "      <th>min</th>\n",
       "      <td>7369.000000</td>\n",
       "      <td>7566.000000</td>\n",
       "      <td>800.000000</td>\n",
       "      <td>300.000000</td>\n",
       "      <td>10.000000</td>\n",
       "    </tr>\n",
       "    <tr>\n",
       "      <th>25%</th>\n",
       "      <td>7588.000000</td>\n",
       "      <td>7698.000000</td>\n",
       "      <td>1250.000000</td>\n",
       "      <td>400.000000</td>\n",
       "      <td>20.000000</td>\n",
       "    </tr>\n",
       "    <tr>\n",
       "      <th>50%</th>\n",
       "      <td>7785.000000</td>\n",
       "      <td>7698.000000</td>\n",
       "      <td>1550.000000</td>\n",
       "      <td>500.000000</td>\n",
       "      <td>20.000000</td>\n",
       "    </tr>\n",
       "    <tr>\n",
       "      <th>75%</th>\n",
       "      <td>7868.000000</td>\n",
       "      <td>7839.000000</td>\n",
       "      <td>2943.750000</td>\n",
       "      <td>950.000000</td>\n",
       "      <td>30.000000</td>\n",
       "    </tr>\n",
       "    <tr>\n",
       "      <th>max</th>\n",
       "      <td>7934.000000</td>\n",
       "      <td>7902.000000</td>\n",
       "      <td>5000.000000</td>\n",
       "      <td>1400.000000</td>\n",
       "      <td>30.000000</td>\n",
       "    </tr>\n",
       "  </tbody>\n",
       "</table>\n",
       "</div>"
      ],
      "text/plain": [
       "             empno          mgr          sal         comm     deptno\n",
       "count    14.000000    13.000000    14.000000     3.000000  14.000000\n",
       "mean   7726.571429  7739.307692  2073.214286   733.333333  22.142857\n",
       "std     178.294361   103.714660  1182.503224   585.946528   8.017837\n",
       "min    7369.000000  7566.000000   800.000000   300.000000  10.000000\n",
       "25%    7588.000000  7698.000000  1250.000000   400.000000  20.000000\n",
       "50%    7785.000000  7698.000000  1550.000000   500.000000  20.000000\n",
       "75%    7868.000000  7839.000000  2943.750000   950.000000  30.000000\n",
       "max    7934.000000  7902.000000  5000.000000  1400.000000  30.000000"
      ]
     },
     "metadata": {},
     "output_type": "display_data"
    }
   ],
   "source": [
    "#5\n",
    "display(df.describe())"
   ]
  },
  {
   "cell_type": "code",
   "execution_count": 12,
   "id": "625e182d-af94-4b3e-b757-3d508be56f0e",
   "metadata": {},
   "outputs": [
    {
     "name": "stdout",
     "output_type": "stream",
     "text": [
      "empno         int64\n",
      "ename        object\n",
      "job          object\n",
      "mgr         float64\n",
      "hiredate     object\n",
      "sal           int64\n",
      "comm        float64\n",
      "deptno        int64\n",
      "dtype: object\n"
     ]
    }
   ],
   "source": [
    "#6\n",
    "print(df.dtypes)"
   ]
  },
  {
   "cell_type": "code",
   "execution_count": 13,
   "id": "125163ca-100e-48cf-89c9-d2b7caf92ecb",
   "metadata": {},
   "outputs": [
    {
     "name": "stdout",
     "output_type": "stream",
     "text": [
      "empno       14\n",
      "ename       14\n",
      "job         14\n",
      "mgr         13\n",
      "hiredate    14\n",
      "sal         14\n",
      "comm         3\n",
      "deptno      14\n",
      "dtype: int64\n"
     ]
    }
   ],
   "source": [
    "#7\n",
    "print(df.count())"
   ]
  },
  {
   "cell_type": "code",
   "execution_count": 14,
   "id": "9807f52d-fce6-41e3-bfd2-b7dbdab934e9",
   "metadata": {},
   "outputs": [
    {
     "data": {
      "text/html": [
       "<div>\n",
       "<style scoped>\n",
       "    .dataframe tbody tr th:only-of-type {\n",
       "        vertical-align: middle;\n",
       "    }\n",
       "\n",
       "    .dataframe tbody tr th {\n",
       "        vertical-align: top;\n",
       "    }\n",
       "\n",
       "    .dataframe thead th {\n",
       "        text-align: right;\n",
       "    }\n",
       "</style>\n",
       "<table border=\"1\" class=\"dataframe\">\n",
       "  <thead>\n",
       "    <tr style=\"text-align: right;\">\n",
       "      <th></th>\n",
       "      <th>empno</th>\n",
       "      <th>ename</th>\n",
       "      <th>job</th>\n",
       "      <th>mgr</th>\n",
       "      <th>hiredate</th>\n",
       "      <th>sal</th>\n",
       "      <th>comm</th>\n",
       "      <th>deptno</th>\n",
       "    </tr>\n",
       "  </thead>\n",
       "  <tbody>\n",
       "    <tr>\n",
       "      <th>count</th>\n",
       "      <td>14.000000</td>\n",
       "      <td>14</td>\n",
       "      <td>14</td>\n",
       "      <td>13.000000</td>\n",
       "      <td>14</td>\n",
       "      <td>14.000000</td>\n",
       "      <td>3.000000</td>\n",
       "      <td>14.000000</td>\n",
       "    </tr>\n",
       "    <tr>\n",
       "      <th>unique</th>\n",
       "      <td>NaN</td>\n",
       "      <td>14</td>\n",
       "      <td>5</td>\n",
       "      <td>NaN</td>\n",
       "      <td>14</td>\n",
       "      <td>NaN</td>\n",
       "      <td>NaN</td>\n",
       "      <td>NaN</td>\n",
       "    </tr>\n",
       "    <tr>\n",
       "      <th>top</th>\n",
       "      <td>NaN</td>\n",
       "      <td>SMITH</td>\n",
       "      <td>CLERK</td>\n",
       "      <td>NaN</td>\n",
       "      <td>1980-12-17</td>\n",
       "      <td>NaN</td>\n",
       "      <td>NaN</td>\n",
       "      <td>NaN</td>\n",
       "    </tr>\n",
       "    <tr>\n",
       "      <th>freq</th>\n",
       "      <td>NaN</td>\n",
       "      <td>1</td>\n",
       "      <td>4</td>\n",
       "      <td>NaN</td>\n",
       "      <td>1</td>\n",
       "      <td>NaN</td>\n",
       "      <td>NaN</td>\n",
       "      <td>NaN</td>\n",
       "    </tr>\n",
       "    <tr>\n",
       "      <th>mean</th>\n",
       "      <td>7726.571429</td>\n",
       "      <td>NaN</td>\n",
       "      <td>NaN</td>\n",
       "      <td>7739.307692</td>\n",
       "      <td>NaN</td>\n",
       "      <td>2073.214286</td>\n",
       "      <td>733.333333</td>\n",
       "      <td>22.142857</td>\n",
       "    </tr>\n",
       "    <tr>\n",
       "      <th>std</th>\n",
       "      <td>178.294361</td>\n",
       "      <td>NaN</td>\n",
       "      <td>NaN</td>\n",
       "      <td>103.714660</td>\n",
       "      <td>NaN</td>\n",
       "      <td>1182.503224</td>\n",
       "      <td>585.946528</td>\n",
       "      <td>8.017837</td>\n",
       "    </tr>\n",
       "    <tr>\n",
       "      <th>min</th>\n",
       "      <td>7369.000000</td>\n",
       "      <td>NaN</td>\n",
       "      <td>NaN</td>\n",
       "      <td>7566.000000</td>\n",
       "      <td>NaN</td>\n",
       "      <td>800.000000</td>\n",
       "      <td>300.000000</td>\n",
       "      <td>10.000000</td>\n",
       "    </tr>\n",
       "    <tr>\n",
       "      <th>25%</th>\n",
       "      <td>7588.000000</td>\n",
       "      <td>NaN</td>\n",
       "      <td>NaN</td>\n",
       "      <td>7698.000000</td>\n",
       "      <td>NaN</td>\n",
       "      <td>1250.000000</td>\n",
       "      <td>400.000000</td>\n",
       "      <td>20.000000</td>\n",
       "    </tr>\n",
       "    <tr>\n",
       "      <th>50%</th>\n",
       "      <td>7785.000000</td>\n",
       "      <td>NaN</td>\n",
       "      <td>NaN</td>\n",
       "      <td>7698.000000</td>\n",
       "      <td>NaN</td>\n",
       "      <td>1550.000000</td>\n",
       "      <td>500.000000</td>\n",
       "      <td>20.000000</td>\n",
       "    </tr>\n",
       "    <tr>\n",
       "      <th>75%</th>\n",
       "      <td>7868.000000</td>\n",
       "      <td>NaN</td>\n",
       "      <td>NaN</td>\n",
       "      <td>7839.000000</td>\n",
       "      <td>NaN</td>\n",
       "      <td>2943.750000</td>\n",
       "      <td>950.000000</td>\n",
       "      <td>30.000000</td>\n",
       "    </tr>\n",
       "    <tr>\n",
       "      <th>max</th>\n",
       "      <td>7934.000000</td>\n",
       "      <td>NaN</td>\n",
       "      <td>NaN</td>\n",
       "      <td>7902.000000</td>\n",
       "      <td>NaN</td>\n",
       "      <td>5000.000000</td>\n",
       "      <td>1400.000000</td>\n",
       "      <td>30.000000</td>\n",
       "    </tr>\n",
       "  </tbody>\n",
       "</table>\n",
       "</div>"
      ],
      "text/plain": [
       "              empno  ename    job          mgr    hiredate          sal  \\\n",
       "count     14.000000     14     14    13.000000          14    14.000000   \n",
       "unique          NaN     14      5          NaN          14          NaN   \n",
       "top             NaN  SMITH  CLERK          NaN  1980-12-17          NaN   \n",
       "freq            NaN      1      4          NaN           1          NaN   \n",
       "mean    7726.571429    NaN    NaN  7739.307692         NaN  2073.214286   \n",
       "std      178.294361    NaN    NaN   103.714660         NaN  1182.503224   \n",
       "min     7369.000000    NaN    NaN  7566.000000         NaN   800.000000   \n",
       "25%     7588.000000    NaN    NaN  7698.000000         NaN  1250.000000   \n",
       "50%     7785.000000    NaN    NaN  7698.000000         NaN  1550.000000   \n",
       "75%     7868.000000    NaN    NaN  7839.000000         NaN  2943.750000   \n",
       "max     7934.000000    NaN    NaN  7902.000000         NaN  5000.000000   \n",
       "\n",
       "               comm     deptno  \n",
       "count      3.000000  14.000000  \n",
       "unique          NaN        NaN  \n",
       "top             NaN        NaN  \n",
       "freq            NaN        NaN  \n",
       "mean     733.333333  22.142857  \n",
       "std      585.946528   8.017837  \n",
       "min      300.000000  10.000000  \n",
       "25%      400.000000  20.000000  \n",
       "50%      500.000000  20.000000  \n",
       "75%      950.000000  30.000000  \n",
       "max     1400.000000  30.000000  "
      ]
     },
     "metadata": {},
     "output_type": "display_data"
    }
   ],
   "source": [
    "#8\n",
    "display(df.describe(include='all'))"
   ]
  },
  {
   "cell_type": "code",
   "execution_count": 16,
   "id": "a7dde491-d453-4ff7-864e-ad5eb9553c12",
   "metadata": {},
   "outputs": [
    {
     "name": "stdout",
     "output_type": "stream",
     "text": [
      "30    6\n",
      "20    5\n",
      "10    3\n",
      "Name: deptno, dtype: int64\n"
     ]
    }
   ],
   "source": [
    "#9\n",
    "print(df['deptno'].value_counts())"
   ]
  },
  {
   "cell_type": "code",
   "execution_count": 17,
   "id": "911ea642-21d3-4cf4-b03a-210b8088db90",
   "metadata": {},
   "outputs": [
    {
     "name": "stdout",
     "output_type": "stream",
     "text": [
      "CLERK        4\n",
      "SALESMAN     4\n",
      "MANAGER      3\n",
      "ANALYST      2\n",
      "PRESIDENT    1\n",
      "Name: job, dtype: int64\n"
     ]
    }
   ],
   "source": [
    "#10\n",
    "print(df['job'].value_counts())"
   ]
  },
  {
   "cell_type": "code",
   "execution_count": 31,
   "id": "39fa5d34-7798-45d9-a6f1-3f1f0d9f390a",
   "metadata": {},
   "outputs": [
    {
     "name": "stdout",
     "output_type": "stream",
     "text": [
      "empno     7726.571429\n",
      "mgr       7739.307692\n",
      "sal       2073.214286\n",
      "comm       733.333333\n",
      "deptno      22.142857\n",
      "dtype: float64\n"
     ]
    }
   ],
   "source": [
    "#11\n",
    "# numeric_only=True 설정 -> warning 제거\n",
    "print(df.mean(numeric_only=True))"
   ]
  },
  {
   "cell_type": "code",
   "execution_count": 32,
   "id": "a13e7534-4cbc-4fc6-b4a5-39c95937acea",
   "metadata": {},
   "outputs": [
    {
     "name": "stdout",
     "output_type": "stream",
     "text": [
      "2073.214285714286\n",
      "2073.214285714286\n"
     ]
    }
   ],
   "source": [
    "#12\n",
    "print(df['sal'].mean())\n",
    "print(df.sal.mean())"
   ]
  },
  {
   "cell_type": "code",
   "execution_count": 20,
   "id": "c46f4cd4-ebf2-4a5c-99d8-4356ee167c78",
   "metadata": {},
   "outputs": [
    {
     "name": "stdout",
     "output_type": "stream",
     "text": [
      "empno             7934\n",
      "ename             WARD\n",
      "job           SALESMAN\n",
      "mgr             7902.0\n",
      "hiredate    1984-10-08\n",
      "sal               5000\n",
      "comm            1400.0\n",
      "deptno              30\n",
      "dtype: object\n"
     ]
    }
   ],
   "source": [
    "#13\n",
    "print(df.max())"
   ]
  },
  {
   "cell_type": "code",
   "execution_count": 21,
   "id": "9540d081-139c-489e-aa18-6d4e7f2b8e79",
   "metadata": {},
   "outputs": [
    {
     "name": "stdout",
     "output_type": "stream",
     "text": [
      "empno             7369\n",
      "ename            ADAMS\n",
      "job            ANALYST\n",
      "mgr             7566.0\n",
      "hiredate    1980-12-17\n",
      "sal                800\n",
      "comm             300.0\n",
      "deptno              10\n",
      "dtype: object\n"
     ]
    }
   ],
   "source": [
    "#14\n",
    "print(df.min())"
   ]
  },
  {
   "cell_type": "code",
   "execution_count": 26,
   "id": "eb15d0e3-e230-4e69-9682-e0d0e398ac4f",
   "metadata": {},
   "outputs": [
    {
     "data": {
      "text/html": [
       "<div>\n",
       "<style scoped>\n",
       "    .dataframe tbody tr th:only-of-type {\n",
       "        vertical-align: middle;\n",
       "    }\n",
       "\n",
       "    .dataframe tbody tr th {\n",
       "        vertical-align: top;\n",
       "    }\n",
       "\n",
       "    .dataframe thead th {\n",
       "        text-align: right;\n",
       "    }\n",
       "</style>\n",
       "<table border=\"1\" class=\"dataframe\">\n",
       "  <thead>\n",
       "    <tr style=\"text-align: right;\">\n",
       "      <th></th>\n",
       "      <th>ename</th>\n",
       "      <th>sal</th>\n",
       "      <th>comm</th>\n",
       "    </tr>\n",
       "  </thead>\n",
       "  <tbody>\n",
       "    <tr>\n",
       "      <th>0</th>\n",
       "      <td>SMITH</td>\n",
       "      <td>800</td>\n",
       "      <td>NaN</td>\n",
       "    </tr>\n",
       "    <tr>\n",
       "      <th>1</th>\n",
       "      <td>ALLEN</td>\n",
       "      <td>1600</td>\n",
       "      <td>300.0</td>\n",
       "    </tr>\n",
       "    <tr>\n",
       "      <th>2</th>\n",
       "      <td>WARD</td>\n",
       "      <td>1250</td>\n",
       "      <td>500.0</td>\n",
       "    </tr>\n",
       "    <tr>\n",
       "      <th>3</th>\n",
       "      <td>JONES</td>\n",
       "      <td>2975</td>\n",
       "      <td>NaN</td>\n",
       "    </tr>\n",
       "    <tr>\n",
       "      <th>4</th>\n",
       "      <td>MARTIN</td>\n",
       "      <td>1250</td>\n",
       "      <td>1400.0</td>\n",
       "    </tr>\n",
       "  </tbody>\n",
       "</table>\n",
       "</div>"
      ],
      "text/plain": [
       "    ename   sal    comm\n",
       "0   SMITH   800     NaN\n",
       "1   ALLEN  1600   300.0\n",
       "2    WARD  1250   500.0\n",
       "3   JONES  2975     NaN\n",
       "4  MARTIN  1250  1400.0"
      ]
     },
     "metadata": {},
     "output_type": "display_data"
    }
   ],
   "source": [
    "#15\n",
    "df1 = df[['ename','sal','comm']]\n",
    "display(df1.head())"
   ]
  },
  {
   "cell_type": "code",
   "execution_count": 27,
   "id": "b508ccac-cef2-4077-b594-0dd5d5ecc2a2",
   "metadata": {},
   "outputs": [
    {
     "data": {
      "text/html": [
       "<div>\n",
       "<style scoped>\n",
       "    .dataframe tbody tr th:only-of-type {\n",
       "        vertical-align: middle;\n",
       "    }\n",
       "\n",
       "    .dataframe tbody tr th {\n",
       "        vertical-align: top;\n",
       "    }\n",
       "\n",
       "    .dataframe thead th {\n",
       "        text-align: right;\n",
       "    }\n",
       "</style>\n",
       "<table border=\"1\" class=\"dataframe\">\n",
       "  <thead>\n",
       "    <tr style=\"text-align: right;\">\n",
       "      <th></th>\n",
       "      <th>sal</th>\n",
       "      <th>comm</th>\n",
       "    </tr>\n",
       "    <tr>\n",
       "      <th>ename</th>\n",
       "      <th></th>\n",
       "      <th></th>\n",
       "    </tr>\n",
       "  </thead>\n",
       "  <tbody>\n",
       "    <tr>\n",
       "      <th>SMITH</th>\n",
       "      <td>800</td>\n",
       "      <td>NaN</td>\n",
       "    </tr>\n",
       "    <tr>\n",
       "      <th>ALLEN</th>\n",
       "      <td>1600</td>\n",
       "      <td>300.0</td>\n",
       "    </tr>\n",
       "    <tr>\n",
       "      <th>WARD</th>\n",
       "      <td>1250</td>\n",
       "      <td>500.0</td>\n",
       "    </tr>\n",
       "    <tr>\n",
       "      <th>JONES</th>\n",
       "      <td>2975</td>\n",
       "      <td>NaN</td>\n",
       "    </tr>\n",
       "    <tr>\n",
       "      <th>MARTIN</th>\n",
       "      <td>1250</td>\n",
       "      <td>1400.0</td>\n",
       "    </tr>\n",
       "  </tbody>\n",
       "</table>\n",
       "</div>"
      ],
      "text/plain": [
       "         sal    comm\n",
       "ename               \n",
       "SMITH    800     NaN\n",
       "ALLEN   1600   300.0\n",
       "WARD    1250   500.0\n",
       "JONES   2975     NaN\n",
       "MARTIN  1250  1400.0"
      ]
     },
     "metadata": {},
     "output_type": "display_data"
    }
   ],
   "source": [
    "#16\n",
    "df1.set_index('ename', inplace=True)\n",
    "display(df1.head())"
   ]
  },
  {
   "cell_type": "code",
   "execution_count": 33,
   "id": "3f8f1c1d-9b90-4c9b-a444-c7e9a6439f09",
   "metadata": {},
   "outputs": [
    {
     "name": "stderr",
     "output_type": "stream",
     "text": [
      "C:\\Users\\duck9\\anaconda3\\envs\\pydatavenv\\lib\\site-packages\\pandas\\util\\_decorators.py:311: SettingWithCopyWarning: \n",
      "A value is trying to be set on a copy of a slice from a DataFrame\n",
      "\n",
      "See the caveats in the documentation: https://pandas.pydata.org/pandas-docs/stable/user_guide/indexing.html#returning-a-view-versus-a-copy\n",
      "  return func(*args, **kwargs)\n"
     ]
    },
    {
     "data": {
      "text/plain": [
       "<AxesSubplot:xlabel='ename'>"
      ]
     },
     "execution_count": 33,
     "metadata": {},
     "output_type": "execute_result"
    },
    {
     "data": {
      "image/png": "[encoded data removed]",
      "text/plain": [
       "<Figure size 432x288 with 1 Axes>"
      ]
     },
     "metadata": {
      "needs_background": "light"
     },
     "output_type": "display_data"
    }
   ],
   "source": [
    "#17\n",
    "df1.sort_values(by='sal',inplace=True)\n",
    "df1.plot(kind='bar',color=['green','orange'])"
   ]
  },
  {
   "cell_type": "code",
   "execution_count": 34,
   "id": "34d00931-5a5e-47c1-9154-f7cbe634e871",
   "metadata": {},
   "outputs": [
    {
     "data": {
      "text/plain": [
       "<AxesSubplot:ylabel='ename'>"
      ]
     },
     "execution_count": 34,
     "metadata": {},
     "output_type": "execute_result"
    },
    {
     "data": {
      "image/png": "[encoded data removed]",
      "text/plain": [
       "<Figure size 432x288 with 1 Axes>"
      ]
     },
     "metadata": {
      "needs_background": "light"
     },
     "output_type": "display_data"
    }
   ],
   "source": [
    "df1.plot(kind='barh')"
   ]
  },
  {
   "cell_type": "code",
   "execution_count": 35,
   "id": "97efbb3d-c570-4e3d-a7f2-ff94281e31a6",
   "metadata": {},
   "outputs": [
    {
     "data": {
      "text/plain": [
       "<AxesSubplot:xlabel='ename'>"
      ]
     },
     "execution_count": 35,
     "metadata": {},
     "output_type": "execute_result"
    },
    {
     "data": {
      "image/png": "[encoded data removed]",
      "text/plain": [
       "<Figure size 432x288 with 1 Axes>"
      ]
     },
     "metadata": {
      "needs_background": "light"
     },
     "output_type": "display_data"
    }
   ],
   "source": [
    "df1.plot(kind='line')"
   ]
  },
  {
   "cell_type": "code",
   "execution_count": 37,
   "id": "8cf856ed-f89a-401f-b1d2-4c44593c330a",
   "metadata": {},
   "outputs": [
    {
     "data": {
      "text/plain": [
       "<AxesSubplot:ylabel='sal'>"
      ]
     },
     "execution_count": 37,
     "metadata": {},
     "output_type": "execute_result"
    },
    {
     "data": {
      "image/png": "[encoded data removed]",
      "text/plain": [
       "<Figure size 432x288 with 1 Axes>"
      ]
     },
     "metadata": {},
     "output_type": "display_data"
    }
   ],
   "source": [
    "df1.plot(kind='pie', y= 'sal')"
   ]
  },
  {
   "cell_type": "code",
   "execution_count": 38,
   "id": "c889356c-6db2-4460-a1c2-d0a8ca293f32",
   "metadata": {},
   "outputs": [
    {
     "data": {
      "text/plain": [
       "<AxesSubplot:>"
      ]
     },
     "execution_count": 38,
     "metadata": {},
     "output_type": "execute_result"
    },
    {
     "data": {
      "image/png": "[encoded data removed]",
      "text/plain": [
       "<Figure size 432x288 with 1 Axes>"
      ]
     },
     "metadata": {
      "needs_background": "light"
     },
     "output_type": "display_data"
    }
   ],
   "source": [
    "df1.plot(kind='box')"
   ]
  }
 ],
 "metadata": {
  "kernelspec": {
   "display_name": "pydatavenv",
   "language": "python",
   "name": "pydatavenv"
  },
  "language_info": {
   "codemirror_mode": {
    "name": "ipython",
    "version": 3
   },
   "file_extension": ".py",
   "mimetype": "text/x-python",
   "name": "python",
   "nbconvert_exporter": "python",
   "pygments_lexer": "ipython3",
   "version": "3.8.11"
  }
 },
 "nbformat": 4,
 "nbformat_minor": 5
}
