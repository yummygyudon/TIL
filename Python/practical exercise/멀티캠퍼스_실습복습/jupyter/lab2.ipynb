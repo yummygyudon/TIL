{
 "cells": [
  {
   "cell_type": "code",
   "execution_count": 120,
   "id": "e95c5c7b-6583-4935-91b6-de8c03f8b8ff",
   "metadata": {},
   "outputs": [
    {
     "name": "stdout",
     "output_type": "stream",
     "text": [
      "[ <h1> 태그의 컨텐트 ] HTML의 링크 태그\n",
      "[텍스트 형식으로 내용을 가지고 있는 <a> 태그의 컨텐트와 href 속성값]\n",
      "World Wide Consortium  :  http://www.w3.org/\n",
      "Java Page  :  http://java.sun.com/\n",
      "Python Page  :  http://www.python.org/\n",
      "Web Client 기술 학습  :  http://www.w3schools.com/\n",
      "[<img> 태그의 src 속성값]  http://unico2013.dothome.co.kr/image/duke.jpg\n",
      "[첫 번째 <h2> 태그의 컨텐트]  좋아하는 색\n",
      "[<ul> 태그의 자식 태그들중 style 속성의 값이 green으로 끝나는 태그의 컨텐트]  녹색\n",
      "[두 번째 <h2> 태그의 컨텐트]  먹고싶은 음식\n",
      "[<ol> 태그의 모든 자식 태그들의 컨텐트]\n",
      "짜장면\n",
      "냉면\n",
      "돈까스\n",
      "갈비\n",
      "[<table> 태그의 모든 자손 태그들의 컨텐트]\n",
      "둘리또치도우너\n",
      "케라토사우루스타조외계인\n",
      "도봉구 쌍문동아프리카깐따삐아 별\n",
      "[name이라는 클래스 속성을 갖는 <tr> 태그의 컨텐트]  둘리또치도우너\n",
      "[target이라는 아이디 속성을 갖는 <td> 태그의 컨텐트]  아프리카\n"
     ]
    }
   ],
   "source": [
    "import requests\n",
    "from bs4 import BeautifulSoup\n",
    "import re\n",
    "\n",
    "url = \"http://unico2013.dothome.co.kr/crawling/exercise_bs.html\"\n",
    "r = requests.get(url)\n",
    "html = r.content\n",
    "html = html.decode('utf-8')\n",
    "bs = BeautifulSoup(html, 'html.parser')\n",
    "#print(bs)\n",
    "h1 = bs.find('h1')\n",
    "a = bs.find_all('a',text=True)\n",
    "t_td = bs.find('td', attrs={\"id\":'target'})\n",
    "\n",
    "\n",
    "print(\"[ <h1> 태그의 컨텐트 ]\" , h1.string.strip())\n",
    "print(\"[텍스트 형식으로 내용을 가지고 있는 <a> 태그의 컨텐트와 href 속성값]\")\n",
    "for i in range(len(a)):\n",
    "    print(a[i].text, \" : \", a[i]['href'])\n",
    "print(\"[<img> 태그의 src 속성값] \", bs.find('img')['src'])\n",
    "print(\"[첫 번째 <h2> 태그의 컨텐트] \", bs.find('h2').text)\n",
    "print(\"[<ul> 태그의 자식 태그들중 style 속성의 값이 green으로 끝나는 태그의 컨텐트] \", bs.find('li',style=\"color:green\").text)\n",
    "# ul.find(style=re.compile(\"green$\")).text\n",
    "print(\"[두 번째 <h2> 태그의 컨텐트] \", bs.find_all('h2')[1].text )\n",
    "print(\"[<ol> 태그의 모든 자식 태그들의 컨텐트]\")\n",
    "print(bs.ol.text.strip())\n",
    "print(\"[<table> 태그의 모든 자손 태그들의 컨텐트]\")\n",
    "print(bs.table.text.strip())\n",
    "print(\"[name이라는 클래스 속성을 갖는 <tr> 태그의 컨텐트] \", bs.tr.text)\n",
    "print(\"[target이라는 아이디 속성을 갖는 <td> 태그의 컨텐트] \", t_td.text)"
   ]
  },
  {
   "cell_type": "code",
   "execution_count": null,
   "id": "90f50b8a-9e12-4771-8db2-c452bf654cd5",
   "metadata": {},
   "outputs": [],
   "source": []
  }
 ],
 "metadata": {
  "kernelspec": {
   "display_name": "pydatavenv",
   "language": "python",
   "name": "pydatavenv"
  },
  "language_info": {
   "codemirror_mode": {
    "name": "ipython",
    "version": 3
   },
   "file_extension": ".py",
   "mimetype": "text/x-python",
   "name": "python",
   "nbconvert_exporter": "python",
   "pygments_lexer": "ipython3",
   "version": "3.8.11"
  }
 },
 "nbformat": 4,
 "nbformat_minor": 5
}
