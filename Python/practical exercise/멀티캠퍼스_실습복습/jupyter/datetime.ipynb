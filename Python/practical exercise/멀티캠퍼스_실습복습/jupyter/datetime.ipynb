{
 "cells": [
  {
   "cell_type": "code",
   "execution_count": 28,
   "id": "1a3707b4-b658-4d09-a60b-63a04d49ccef",
   "metadata": {},
   "outputs": [],
   "source": [
    "import pandas as pd\n",
    "from datetime import datetime "
   ]
  },
  {
   "cell_type": "code",
   "execution_count": 29,
   "id": "e1275240-b9cb-4dbf-a0d2-05fd3134572b",
   "metadata": {},
   "outputs": [
    {
     "name": "stdout",
     "output_type": "stream",
     "text": [
      "2021-10-07 13:31:39.451461\n"
     ]
    }
   ],
   "source": [
    "today= datetime.today()\n",
    "print(today)"
   ]
  },
  {
   "cell_type": "code",
   "execution_count": 5,
   "id": "8655f8e5-680a-4233-bceb-1c32d3cada55",
   "metadata": {},
   "outputs": [
    {
     "name": "stdout",
     "output_type": "stream",
     "text": [
      "DatetimeIndex(['2021-10-07', '2021-10-08', '2021-10-09', '2021-10-10',\n",
      "               '2021-10-11', '2021-10-12', '2021-10-13', '2021-10-14',\n",
      "               '2021-10-15', '2021-10-16', '2021-10-17', '2021-10-18',\n",
      "               '2021-10-19', '2021-10-20', '2021-10-21', '2021-10-22',\n",
      "               '2021-10-23', '2021-10-24', '2021-10-25', '2021-10-26',\n",
      "               '2021-10-27'],\n",
      "              dtype='datetime64[ns]', freq='D')\n"
     ]
    }
   ],
   "source": [
    "#today = '20211007'\n",
    "today = pd.to_datetime(today)\n",
    "ts_arr = pd.date_range(start=today,\n",
    "                      end='2021-10-27',\n",
    "                      freq='D')\n",
    "print(ts_arr)"
   ]
  },
  {
   "cell_type": "code",
   "execution_count": 6,
   "id": "86e5fd6c-d943-44f8-8221-5ae78a506787",
   "metadata": {},
   "outputs": [
    {
     "name": "stdout",
     "output_type": "stream",
     "text": [
      "DatetimeIndex(['2021-10-07', '2021-10-08', '2021-10-09', '2021-10-10',\n",
      "               '2021-10-11', '2021-10-12', '2021-10-13', '2021-10-14',\n",
      "               '2021-10-15', '2021-10-16', '2021-10-17', '2021-10-18',\n",
      "               '2021-10-19', '2021-10-20', '2021-10-21', '2021-10-22',\n",
      "               '2021-10-23', '2021-10-24', '2021-10-25', '2021-10-26',\n",
      "               '2021-10-27', '2021-10-28', '2021-10-29', '2021-10-30',\n",
      "               '2021-10-31', '2021-11-01', '2021-11-02', '2021-11-03',\n",
      "               '2021-11-04', '2021-11-05', '2021-11-06', '2021-11-07',\n",
      "               '2021-11-08', '2021-11-09', '2021-11-10', '2021-11-11',\n",
      "               '2021-11-12', '2021-11-13', '2021-11-14', '2021-11-15',\n",
      "               '2021-11-16', '2021-11-17', '2021-11-18', '2021-11-19',\n",
      "               '2021-11-20', '2021-11-21', '2021-11-22', '2021-11-23',\n",
      "               '2021-11-24', '2021-11-25', '2021-11-26', '2021-11-27',\n",
      "               '2021-11-28', '2021-11-29', '2021-11-30', '2021-12-01',\n",
      "               '2021-12-02', '2021-12-03', '2021-12-04', '2021-12-05',\n",
      "               '2021-12-06'],\n",
      "              dtype='datetime64[ns]', freq='D')\n"
     ]
    }
   ],
   "source": [
    "ts_arr2 = pd.date_range(start=today,\n",
    "                      periods=61,\n",
    "                      freq='D')\n",
    "print(ts_arr2)"
   ]
  },
  {
   "cell_type": "code",
   "execution_count": 7,
   "id": "fc30f89e-af65-41cc-be0f-2a58862337e8",
   "metadata": {},
   "outputs": [
    {
     "name": "stdout",
     "output_type": "stream",
     "text": [
      "DatetimeIndex(['2021-01-31', '2021-02-28', '2021-03-31', '2021-04-30',\n",
      "               '2021-05-31', '2021-06-30', '2021-07-31', '2021-08-31',\n",
      "               '2021-09-30', '2021-10-31', '2021-11-30', '2021-12-31'],\n",
      "              dtype='datetime64[ns]', freq='M')\n"
     ]
    }
   ],
   "source": [
    "ts_arr3 = pd.date_range(start='2021-01-01',\n",
    "                      end='2021-12-31',\n",
    "                      freq='M')\n",
    "print(ts_arr3)"
   ]
  },
  {
   "cell_type": "code",
   "execution_count": 8,
   "id": "0cce26dc-7196-4d78-b14a-8fdf7ea52e27",
   "metadata": {
    "tags": []
   },
   "outputs": [
    {
     "name": "stdout",
     "output_type": "stream",
     "text": [
      "DatetimeIndex(['2021-01-01', '2021-02-01', '2021-03-01', '2021-04-01',\n",
      "               '2021-05-01', '2021-06-01', '2021-07-01', '2021-08-01',\n",
      "               '2021-09-01', '2021-10-01', '2021-11-01', '2021-12-01'],\n",
      "              dtype='datetime64[ns]', freq='MS')\n"
     ]
    }
   ],
   "source": [
    "ts_arr4 = pd.date_range(start='2021-01-01',\n",
    "                      end='2021-12-31',\n",
    "                      freq='MS')\n",
    "print(ts_arr4)"
   ]
  },
  {
   "cell_type": "code",
   "execution_count": 18,
   "id": "67763b58-742b-4c08-b39d-05958c9bfe43",
   "metadata": {
    "tags": []
   },
   "outputs": [
    {
     "name": "stdout",
     "output_type": "stream",
     "text": [
      "DatetimeIndex(['2021-10-07 00:00:00', '2021-10-07 01:00:00',\n",
      "               '2021-10-07 02:00:00', '2021-10-07 03:00:00',\n",
      "               '2021-10-07 04:00:00', '2021-10-07 05:00:00',\n",
      "               '2021-10-07 06:00:00', '2021-10-07 07:00:00',\n",
      "               '2021-10-07 08:00:00', '2021-10-07 09:00:00',\n",
      "               '2021-10-07 10:00:00', '2021-10-07 11:00:00',\n",
      "               '2021-10-07 12:00:00', '2021-10-07 13:00:00',\n",
      "               '2021-10-07 14:00:00', '2021-10-07 15:00:00',\n",
      "               '2021-10-07 16:00:00', '2021-10-07 17:00:00',\n",
      "               '2021-10-07 18:00:00', '2021-10-07 19:00:00',\n",
      "               '2021-10-07 20:00:00', '2021-10-07 21:00:00',\n",
      "               '2021-10-07 22:00:00', '2021-10-07 23:00:00',\n",
      "               '2021-10-08 00:00:00', '2021-10-08 01:00:00',\n",
      "               '2021-10-08 02:00:00', '2021-10-08 03:00:00',\n",
      "               '2021-10-08 04:00:00', '2021-10-08 05:00:00',\n",
      "               '2021-10-08 06:00:00', '2021-10-08 07:00:00',\n",
      "               '2021-10-08 08:00:00', '2021-10-08 09:00:00',\n",
      "               '2021-10-08 10:00:00', '2021-10-08 11:00:00',\n",
      "               '2021-10-08 12:00:00', '2021-10-08 13:00:00',\n",
      "               '2021-10-08 14:00:00', '2021-10-08 15:00:00',\n",
      "               '2021-10-08 16:00:00', '2021-10-08 17:00:00',\n",
      "               '2021-10-08 18:00:00', '2021-10-08 19:00:00',\n",
      "               '2021-10-08 20:00:00', '2021-10-08 21:00:00',\n",
      "               '2021-10-08 22:00:00', '2021-10-08 23:00:00',\n",
      "               '2021-10-09 00:00:00', '2021-10-09 01:00:00',\n",
      "               '2021-10-09 02:00:00', '2021-10-09 03:00:00',\n",
      "               '2021-10-09 04:00:00', '2021-10-09 05:00:00',\n",
      "               '2021-10-09 06:00:00', '2021-10-09 07:00:00',\n",
      "               '2021-10-09 08:00:00', '2021-10-09 09:00:00',\n",
      "               '2021-10-09 10:00:00', '2021-10-09 11:00:00',\n",
      "               '2021-10-09 12:00:00', '2021-10-09 13:00:00',\n",
      "               '2021-10-09 14:00:00', '2021-10-09 15:00:00',\n",
      "               '2021-10-09 16:00:00', '2021-10-09 17:00:00',\n",
      "               '2021-10-09 18:00:00', '2021-10-09 19:00:00',\n",
      "               '2021-10-09 20:00:00', '2021-10-09 21:00:00',\n",
      "               '2021-10-09 22:00:00', '2021-10-09 23:00:00',\n",
      "               '2021-10-10 00:00:00', '2021-10-10 01:00:00',\n",
      "               '2021-10-10 02:00:00', '2021-10-10 03:00:00',\n",
      "               '2021-10-10 04:00:00', '2021-10-10 05:00:00',\n",
      "               '2021-10-10 06:00:00', '2021-10-10 07:00:00',\n",
      "               '2021-10-10 08:00:00', '2021-10-10 09:00:00',\n",
      "               '2021-10-10 10:00:00', '2021-10-10 11:00:00',\n",
      "               '2021-10-10 12:00:00', '2021-10-10 13:00:00',\n",
      "               '2021-10-10 14:00:00', '2021-10-10 15:00:00',\n",
      "               '2021-10-10 16:00:00', '2021-10-10 17:00:00',\n",
      "               '2021-10-10 18:00:00', '2021-10-10 19:00:00',\n",
      "               '2021-10-10 20:00:00', '2021-10-10 21:00:00',\n",
      "               '2021-10-10 22:00:00', '2021-10-10 23:00:00'],\n",
      "              dtype='datetime64[ns]', freq='H')\n"
     ]
    }
   ],
   "source": [
    "ts_arr5 = pd.date_range(start='2021-10-07',\n",
    "                      end='2021-10-10 23:59:59',\n",
    "                      freq='1H')\n",
    "print(ts_arr5)"
   ]
  },
  {
   "cell_type": "code",
   "execution_count": 17,
   "id": "dbb9f7ba-1e05-4426-a32c-92f8469f65ac",
   "metadata": {
    "tags": []
   },
   "outputs": [
    {
     "name": "stdout",
     "output_type": "stream",
     "text": [
      "DatetimeIndex(['2021-10-06 00:00:00', '2021-10-06 03:00:00',\n",
      "               '2021-10-06 06:00:00', '2021-10-06 09:00:00',\n",
      "               '2021-10-06 12:00:00', '2021-10-06 15:00:00',\n",
      "               '2021-10-06 18:00:00', '2021-10-06 21:00:00',\n",
      "               '2021-10-07 00:00:00', '2021-10-07 03:00:00',\n",
      "               ...\n",
      "               '2021-10-26 15:00:00', '2021-10-26 18:00:00',\n",
      "               '2021-10-26 21:00:00', '2021-10-27 00:00:00',\n",
      "               '2021-10-27 03:00:00', '2021-10-27 06:00:00',\n",
      "               '2021-10-27 09:00:00', '2021-10-27 12:00:00',\n",
      "               '2021-10-27 15:00:00', '2021-10-27 18:00:00'],\n",
      "              dtype='datetime64[ns]', length=175, freq='3H')\n"
     ]
    }
   ],
   "source": [
    "ts_arr6 = pd.date_range(start='2021-10-06',\n",
    "                      end='2021-10-27 18:00:00',\n",
    "                      freq='3H')\n",
    "print(ts_arr6)"
   ]
  },
  {
   "cell_type": "code",
   "execution_count": 19,
   "id": "615fd42f-6451-4489-968b-f4940422fef4",
   "metadata": {
    "tags": []
   },
   "outputs": [
    {
     "name": "stdout",
     "output_type": "stream",
     "text": [
      "DatetimeIndex(['2021-01-31', '2021-03-31', '2021-05-31', '2021-07-31',\n",
      "               '2021-09-30', '2021-11-30', '2022-01-31', '2022-03-31'],\n",
      "              dtype='datetime64[ns]', freq='2M')\n"
     ]
    }
   ],
   "source": [
    "ts_arr7 = pd.date_range(start='2021-01-01',\n",
    "                      periods=8,\n",
    "                      freq='2M')\n",
    "print(ts_arr7)"
   ]
  },
  {
   "cell_type": "code",
   "execution_count": null,
   "id": "48f0723d-4042-46c5-ba26-6d355cc32262",
   "metadata": {},
   "outputs": [],
   "source": []
  },
  {
   "cell_type": "code",
   "execution_count": 25,
   "id": "183d5b94-ce70-4793-83b1-a54e353e211f",
   "metadata": {
    "tags": []
   },
   "outputs": [
    {
     "name": "stdout",
     "output_type": "stream",
     "text": [
      "<class 'pandas.core.frame.DataFrame'>\n",
      "RangeIndex: 746 entries, 0 to 745\n",
      "Data columns (total 3 columns):\n",
      " #   Column        Non-Null Count  Dtype         \n",
      "---  ------        --------------  -----         \n",
      " 0   oldclicktime  746 non-null    object        \n",
      " 1   clickpid      746 non-null    object        \n",
      " 2   newclicktime  746 non-null    datetime64[ns]\n",
      "dtypes: datetime64[ns](1), object(2)\n",
      "memory usage: 17.6+ KB\n",
      "None\n"
     ]
    },
    {
     "data": {
      "text/html": [
       "<div>\n",
       "<style scoped>\n",
       "    .dataframe tbody tr th:only-of-type {\n",
       "        vertical-align: middle;\n",
       "    }\n",
       "\n",
       "    .dataframe tbody tr th {\n",
       "        vertical-align: top;\n",
       "    }\n",
       "\n",
       "    .dataframe thead th {\n",
       "        text-align: right;\n",
       "    }\n",
       "</style>\n",
       "<table border=\"1\" class=\"dataframe\">\n",
       "  <thead>\n",
       "    <tr style=\"text-align: right;\">\n",
       "      <th></th>\n",
       "      <th>oldclicktime</th>\n",
       "      <th>clickpid</th>\n",
       "      <th>newclicktime</th>\n",
       "    </tr>\n",
       "  </thead>\n",
       "  <tbody>\n",
       "    <tr>\n",
       "      <th>0</th>\n",
       "      <td>201612120944</td>\n",
       "      <td>p001</td>\n",
       "      <td>2016-12-12 09:44:00</td>\n",
       "    </tr>\n",
       "    <tr>\n",
       "      <th>1</th>\n",
       "      <td>201612120944</td>\n",
       "      <td>p003</td>\n",
       "      <td>2016-12-12 09:44:00</td>\n",
       "    </tr>\n",
       "    <tr>\n",
       "      <th>2</th>\n",
       "      <td>201612120944</td>\n",
       "      <td>p003</td>\n",
       "      <td>2016-12-12 09:44:00</td>\n",
       "    </tr>\n",
       "    <tr>\n",
       "      <th>3</th>\n",
       "      <td>201612120945</td>\n",
       "      <td>p008</td>\n",
       "      <td>2016-12-12 09:45:00</td>\n",
       "    </tr>\n",
       "    <tr>\n",
       "      <th>4</th>\n",
       "      <td>201612121052</td>\n",
       "      <td>p008</td>\n",
       "      <td>2016-12-12 10:52:00</td>\n",
       "    </tr>\n",
       "  </tbody>\n",
       "</table>\n",
       "</div>"
      ],
      "text/plain": [
       "   oldclicktime clickpid        newclicktime\n",
       "0  201612120944     p001 2016-12-12 09:44:00\n",
       "1  201612120944     p003 2016-12-12 09:44:00\n",
       "2  201612120944     p003 2016-12-12 09:44:00\n",
       "3  201612120945     p008 2016-12-12 09:45:00\n",
       "4  201612121052     p008 2016-12-12 10:52:00"
      ]
     },
     "metadata": {},
     "output_type": "display_data"
    }
   ],
   "source": [
    "df = pd.read_csv('../data/product_click.log', sep=' ',header=None, dtype='str')\n",
    "df.rename(columns={0:'oldclicktime',1:'clickpid'}, inplace=True)\n",
    "df['oldclicktime']= df['oldclicktime'].map(str)\n",
    "df['newclicktime'] = pd.to_datetime(df['oldclicktime'])\n",
    "\n",
    "print(df.info())\n",
    "display(df.head())"
   ]
  },
  {
   "cell_type": "code",
   "execution_count": 27,
   "id": "86c192e4-8025-4dfc-b6bc-32960797726b",
   "metadata": {},
   "outputs": [
    {
     "name": "stdout",
     "output_type": "stream",
     "text": [
      "<class 'pandas.core.frame.DataFrame'>\n",
      "RangeIndex: 746 entries, 0 to 745\n",
      "Data columns (total 8 columns):\n",
      " #   Column        Non-Null Count  Dtype         \n",
      "---  ------        --------------  -----         \n",
      " 0   oldclicktime  746 non-null    object        \n",
      " 1   clickpid      746 non-null    object        \n",
      " 2   newclicktime  746 non-null    datetime64[ns]\n",
      " 3   year          746 non-null    int64         \n",
      " 4   month         746 non-null    int64         \n",
      " 5   day           746 non-null    int64         \n",
      " 6   hour          746 non-null    int64         \n",
      " 7   minute        746 non-null    int64         \n",
      "dtypes: datetime64[ns](1), int64(5), object(2)\n",
      "memory usage: 46.8+ KB\n",
      "None\n"
     ]
    },
    {
     "data": {
      "text/html": [
       "<div>\n",
       "<style scoped>\n",
       "    .dataframe tbody tr th:only-of-type {\n",
       "        vertical-align: middle;\n",
       "    }\n",
       "\n",
       "    .dataframe tbody tr th {\n",
       "        vertical-align: top;\n",
       "    }\n",
       "\n",
       "    .dataframe thead th {\n",
       "        text-align: right;\n",
       "    }\n",
       "</style>\n",
       "<table border=\"1\" class=\"dataframe\">\n",
       "  <thead>\n",
       "    <tr style=\"text-align: right;\">\n",
       "      <th></th>\n",
       "      <th>oldclicktime</th>\n",
       "      <th>clickpid</th>\n",
       "      <th>newclicktime</th>\n",
       "      <th>year</th>\n",
       "      <th>month</th>\n",
       "      <th>day</th>\n",
       "      <th>hour</th>\n",
       "      <th>minute</th>\n",
       "    </tr>\n",
       "  </thead>\n",
       "  <tbody>\n",
       "    <tr>\n",
       "      <th>0</th>\n",
       "      <td>201612120944</td>\n",
       "      <td>p001</td>\n",
       "      <td>2016-12-12 09:44:00</td>\n",
       "      <td>2016</td>\n",
       "      <td>12</td>\n",
       "      <td>12</td>\n",
       "      <td>9</td>\n",
       "      <td>44</td>\n",
       "    </tr>\n",
       "    <tr>\n",
       "      <th>1</th>\n",
       "      <td>201612120944</td>\n",
       "      <td>p003</td>\n",
       "      <td>2016-12-12 09:44:00</td>\n",
       "      <td>2016</td>\n",
       "      <td>12</td>\n",
       "      <td>12</td>\n",
       "      <td>9</td>\n",
       "      <td>44</td>\n",
       "    </tr>\n",
       "    <tr>\n",
       "      <th>2</th>\n",
       "      <td>201612120944</td>\n",
       "      <td>p003</td>\n",
       "      <td>2016-12-12 09:44:00</td>\n",
       "      <td>2016</td>\n",
       "      <td>12</td>\n",
       "      <td>12</td>\n",
       "      <td>9</td>\n",
       "      <td>44</td>\n",
       "    </tr>\n",
       "    <tr>\n",
       "      <th>3</th>\n",
       "      <td>201612120945</td>\n",
       "      <td>p008</td>\n",
       "      <td>2016-12-12 09:45:00</td>\n",
       "      <td>2016</td>\n",
       "      <td>12</td>\n",
       "      <td>12</td>\n",
       "      <td>9</td>\n",
       "      <td>45</td>\n",
       "    </tr>\n",
       "    <tr>\n",
       "      <th>4</th>\n",
       "      <td>201612121052</td>\n",
       "      <td>p008</td>\n",
       "      <td>2016-12-12 10:52:00</td>\n",
       "      <td>2016</td>\n",
       "      <td>12</td>\n",
       "      <td>12</td>\n",
       "      <td>10</td>\n",
       "      <td>52</td>\n",
       "    </tr>\n",
       "  </tbody>\n",
       "</table>\n",
       "</div>"
      ],
      "text/plain": [
       "   oldclicktime clickpid        newclicktime  year  month  day  hour  minute\n",
       "0  201612120944     p001 2016-12-12 09:44:00  2016     12   12     9      44\n",
       "1  201612120944     p003 2016-12-12 09:44:00  2016     12   12     9      44\n",
       "2  201612120944     p003 2016-12-12 09:44:00  2016     12   12     9      44\n",
       "3  201612120945     p008 2016-12-12 09:45:00  2016     12   12     9      45\n",
       "4  201612121052     p008 2016-12-12 10:52:00  2016     12   12    10      52"
      ]
     },
     "metadata": {},
     "output_type": "display_data"
    }
   ],
   "source": [
    "df['year'] = df['newclicktime'].dt.year\n",
    "df['month'] = df['newclicktime'].dt.month\n",
    "df['day'] = df['newclicktime'].dt.day\n",
    "df['hour'] = df['newclicktime'].dt.hour\n",
    "df['minute'] = df['newclicktime'].dt.minute\n",
    "\n",
    "print(df.info())\n",
    "display(df.head())"
   ]
  }
 ],
 "metadata": {
  "kernelspec": {
   "display_name": "pydatavenv",
   "language": "python",
   "name": "pydatavenv"
  },
  "language_info": {
   "codemirror_mode": {
    "name": "ipython",
    "version": 3
   },
   "file_extension": ".py",
   "mimetype": "text/x-python",
   "name": "python",
   "nbconvert_exporter": "python",
   "pygments_lexer": "ipython3",
   "version": "3.8.11"
  }
 },
 "nbformat": 4,
 "nbformat_minor": 5
}
