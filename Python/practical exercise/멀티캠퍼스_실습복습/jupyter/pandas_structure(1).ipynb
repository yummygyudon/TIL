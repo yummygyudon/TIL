{
 "cells": [
  {
   "cell_type": "code",
   "execution_count": 6,
   "id": "76fbd64e-1bad-497e-ad14-e8d1baecb4c5",
   "metadata": {},
   "outputs": [
    {
     "name": "stdout",
     "output_type": "stream",
     "text": [
      "<class 'pandas.core.series.Series'> \n",
      " 0    10\n",
      "1    20\n",
      "2    30\n",
      "3    40\n",
      "4    50\n",
      "dtype: int64\n"
     ]
    }
   ],
   "source": [
    "import pandas as pd\n",
    "\n",
    "#1\n",
    "s1 = pd.Series(range(10,60,10))\n",
    "\n",
    "print(type(s1),\"\\n\",s1)"
   ]
  },
  {
   "cell_type": "code",
   "execution_count": 8,
   "id": "f842c082-8eff-4515-9c2b-0e3c68604428",
   "metadata": {},
   "outputs": [
    {
     "name": "stdout",
     "output_type": "stream",
     "text": [
      "<class 'pandas.core.series.Series'> \n",
      " a    1\n",
      "b    2\n",
      "c    3\n",
      "d    4\n",
      "e    5\n",
      "dtype: int64\n"
     ]
    }
   ],
   "source": [
    "#2\n",
    "s2 = pd.Series(range(1,6), index=['a','b','c','d','e'])\n",
    "print(type(s2),\"\\n\",s2)"
   ]
  },
  {
   "cell_type": "code",
   "execution_count": 10,
   "id": "ef113954-3306-4286-9024-17fe1df59414",
   "metadata": {},
   "outputs": [
    {
     "name": "stdout",
     "output_type": "stream",
     "text": [
      "<class 'pandas.core.series.Series'> \n",
      " 학생1     둘리\n",
      "학생2     또치\n",
      "학생3    도우너\n",
      "학생4    희동이\n",
      "학생5    마이콜\n",
      "dtype: object\n"
     ]
    }
   ],
   "source": [
    "#3\n",
    "dict1 = {'학생1':'둘리','학생2':'또치','학생3':'도우너','학생4':'희동이','학생5':'마이콜'}\n",
    "s3 = pd.Series(dict1)\n",
    "print(type(s3),\"\\n\",s3)"
   ]
  },
  {
   "cell_type": "code",
   "execution_count": 11,
   "id": "2f2e0528-81b1-43c2-bcfb-f579434516fa",
   "metadata": {},
   "outputs": [
    {
     "name": "stdout",
     "output_type": "stream",
     "text": [
      "<class 'pandas.core.series.Series'> \n",
      " 학생1     둘리\n",
      "학생2     또치\n",
      "학생3    도우너\n",
      "학생4    희동이\n",
      "학생5    마이콜\n",
      "dtype: object\n"
     ]
    }
   ],
   "source": [
    "#4\n",
    "ls=['학생1','학생2','학생3','학생4','학생5']\n",
    "name=['둘리', '또치', '도우너', '희동이', '마이콜']\n",
    "\n",
    "s4 = pd.Series(name, index=ls)\n",
    "print(type(s4), \"\\n\", s4)"
   ]
  },
  {
   "cell_type": "code",
   "execution_count": 21,
   "id": "e03bd299-a18e-428a-9f4a-b336dac8f0b9",
   "metadata": {
    "tags": []
   },
   "outputs": [
    {
     "name": "stdout",
     "output_type": "stream",
     "text": [
      "[ 시리즈 sr 출력 ]\n",
      " A형     34.2\n",
      "B형     27.1\n",
      "O형     26.7\n",
      "AB형    11.5\n",
      "dtype: float64\n",
      "[ 시리즈 sr에서 인덱싱과 슬라이싱하여 출력(숫자인덱스 사용) ]\n",
      " 34.2 \n",
      " 11.5 \n",
      " 27.1 \n",
      " B형     27.1\n",
      "O형     26.7\n",
      "AB형    11.5\n",
      "dtype: float64\n",
      "[ 시리즈 sr에서 인덱싱과 슬라이싱하여 출력(이름인덱스 사용) ]\n",
      " 34.2 \n",
      " 11.5 \n",
      " 27.1 \n",
      " B형     27.1\n",
      "O형     26.7\n",
      "AB형    11.5\n",
      "dtype: float64\n",
      "[ 시리즈 sr의 크기 출력 ]\n",
      " 4 \n",
      "\n",
      "[ 시리즈 sr의 인덱스 출력 ]\n",
      " Index(['A형', 'B형', 'O형', 'AB형'], dtype='object') \n",
      "\n",
      "[ 시리즈 sr의 데이터 값 출력 ]\n",
      " [34.2 27.1 26.7 11.5] \n",
      "\n"
     ]
    }
   ],
   "source": [
    "#5\n",
    "blood = ['A형', 'B형', 'O형', 'AB형']\n",
    "st = [34.2, 27.1, 26.7, 11.5]\n",
    "sr = pd.Series(st, index=blood)\n",
    "\n",
    "print(\"[ 시리즈 sr 출력 ]\\n\", sr)\n",
    "print(\"[ 시리즈 sr에서 인덱싱과 슬라이싱하여 출력(숫자인덱스 사용) ]\\n\",\n",
    "     sr[0], \"\\n\",\n",
    "     sr[-1], \"\\n\",\n",
    "     sr[1], \"\\n\",\n",
    "     sr[1:])\n",
    "#허허..이게 아니였구먼유\n",
    "#for bt in sr.index:\n",
    " #   print(sr[bt],\"\\n\")\n",
    "\n",
    "print(\"[ 시리즈 sr에서 인덱싱과 슬라이싱하여 출력(이름인덱스 사용) ]\\n\",\n",
    "     sr[\"A형\"], \"\\n\",\n",
    "     sr[\"AB형\"], \"\\n\",\n",
    "     sr[\"B형\"], \"\\n\",\n",
    "     sr[\"B형\":])\n",
    "print(\"[ 시리즈 sr의 크기 출력 ]\\n\", len(sr),\"\\n\")\n",
    "print(\"[ 시리즈 sr의 인덱스 출력 ]\\n\", sr.index,\"\\n\")\n",
    "print(\"[ 시리즈 sr의 데이터 값 출력 ]\\n\", sr.values,\"\\n\")\n"
   ]
  },
  {
   "cell_type": "code",
   "execution_count": 22,
   "id": "b91bfb44-9617-4cd8-91e4-65da704ac894",
   "metadata": {},
   "outputs": [
    {
     "name": "stdout",
     "output_type": "stream",
     "text": [
      "타입 :  <class 'pandas.core.frame.DataFrame'> \n",
      "   name  kor  eng  mat\n",
      "0   둘리   90   99   90\n",
      "1   또치   80   98   70\n",
      "2  도우너   70   97   70\n",
      "3  희동이   70   46   60\n"
     ]
    }
   ],
   "source": [
    "#6\n",
    "dict2 = {'name' : ['둘리', '또치', '도우너', '희동이'], 'kor': [90,80,70,70], 'eng': [99,98,97,46], 'mat':[90,70,70,60]}\n",
    "df1 = pd.DataFrame(dict2)\n",
    "\n",
    "print(\"타입 : \", type(df1),'\\n', df1)"
   ]
  },
  {
   "cell_type": "code",
   "execution_count": 35,
   "id": "36a60197-9e85-411e-babb-067b886a3cc9",
   "metadata": {},
   "outputs": [
    {
     "name": "stdout",
     "output_type": "stream",
     "text": [
      "타입 :  <class 'pandas.core.frame.DataFrame'> \n",
      "     name  kor  eng  mat\n",
      "학생1   둘리   90   99   90\n",
      "학생2   또치   80   98   70\n",
      "학생3  도우너   70   97   70\n",
      "학생4  희동이   70   46   60\n"
     ]
    }
   ],
   "source": [
    "#7\n",
    "dict3 = {'name' : ['둘리', '또치', '도우너', '희동이'], \n",
    "         'kor': [90,80,70,70], 'eng': [99,98,97,46], 'mat':[90,70,70,60]}\n",
    "df2 = pd.DataFrame(dict3, index=['학생1', '학생2', '학생3', '학생4'])\n",
    "\n",
    "print(\"타입 : \", type(df2),'\\n', df2)"
   ]
  },
  {
   "cell_type": "code",
   "execution_count": 36,
   "id": "6a90edab-67b9-481d-bed0-ddff8526cf5a",
   "metadata": {},
   "outputs": [
    {
     "name": "stdout",
     "output_type": "stream",
     "text": [
      "타입 :  <class 'pandas.core.frame.DataFrame'> \n",
      "     name  kor  eng  mat\n",
      "학생1   둘리   90   99   90\n",
      "학생2   또치   80   98   70\n",
      "학생3  도우너   70   97   70\n",
      "학생4  희동이   70   46   60\n"
     ]
    }
   ],
   "source": [
    "#7_ 8번 rename용\n",
    "df3 = pd.DataFrame( [['둘리',90,99,90], ['또치',80,98,70], ['도우너',70,97,70], ['희동이',70,46,60]],\n",
    "                   index=['학생1', '학생2', '학생3', '학생4'],\n",
    "                  columns=['name','kor','eng','mat'])\n",
    "\n",
    "print(\"타입 : \", type(df3),'\\n', df3)"
   ]
  },
  {
   "cell_type": "code",
   "execution_count": 37,
   "id": "02791c88-a967-47aa-a9be-81113b2c5435",
   "metadata": {},
   "outputs": [
    {
     "name": "stdout",
     "output_type": "stream",
     "text": [
      "    dooly  doochi  dounar  heedong\n",
      "st1    둘리      90      99       90\n",
      "st2    또치      80      98       70\n",
      "st3   도우너      70      97       70\n",
      "st4   희동이      70      46       60\n"
     ]
    }
   ],
   "source": [
    "#8\n",
    "df3.rename(index={'학생1':'st1', '학생2':'st2', '학생3':'st3', '학생4':'st4'}, inplace=True)\n",
    "df3.rename(columns={'name':'dooly','kor':'doochi','eng':'dounar','mat':'heedong'}, inplace=True)\n",
    "\n",
    "print(df3)"
   ]
  },
  {
   "cell_type": "code",
   "execution_count": 55,
   "id": "014a4528-7591-4eba-a11c-a9cecb6abbea",
   "metadata": {},
   "outputs": [
    {
     "name": "stdout",
     "output_type": "stream",
     "text": [
      "  name  kor  eng  mat\n",
      "0  듀크1   90   99   90\n",
      "1  듀크2   80   98   70\n",
      "2  듀크3   70   97   70\n",
      "3  듀크4   70   46   60\n",
      "4  듀크5   60   77   88\n",
      "  name  kor  eng  mat\n",
      "2  듀크3   70   97   70\n",
      "3  듀크4   70   46   60\n",
      "4  듀크5   60   77   88\n",
      "5  듀크6   70   56   99\n",
      "6  듀크7   90   90   90\n",
      "Index(['name', 'kor', 'eng', 'mat'], dtype='object')\n",
      "0    듀크1\n",
      "1    듀크2\n",
      "2    듀크3\n",
      "3    듀크4\n",
      "4    듀크5\n",
      "5    듀크6\n",
      "6    듀크7\n",
      "Name: name, dtype: object\n",
      "0    99\n",
      "1    98\n",
      "2    97\n",
      "3    46\n",
      "4    77\n",
      "5    56\n",
      "6    90\n",
      "Name: eng, dtype: int64\n",
      "   kor  mat\n",
      "0   90   90\n",
      "1   80   70\n",
      "2   70   70\n",
      "3   70   60\n",
      "4   60   88\n",
      "5   70   99\n",
      "6   90   90\n",
      "iloc함수 사용  ----------\n",
      "name    듀크4\n",
      "kor      70\n",
      "eng      46\n",
      "mat      60\n",
      "Name: 3, dtype: object\n",
      "듀크1\n",
      "46\n",
      "2    97\n",
      "3    46\n",
      "Name: eng, dtype: int64\n",
      "   eng  mat\n",
      "2   97   70\n",
      "3   46   60\n",
      "loc함수 사용  ----------\n",
      "name    듀크4\n",
      "kor      70\n",
      "eng      46\n",
      "mat      60\n",
      "Name: 3, dtype: object\n",
      "듀크1\n",
      "46\n",
      "2    97\n",
      "3    46\n",
      "Name: eng, dtype: int64\n",
      "   eng  mat\n",
      "2   97   70\n",
      "3   46   60\n"
     ]
    }
   ],
   "source": [
    "#9\n",
    "data = {'name':['듀크1', '듀크2', '듀크3', '듀크4', '듀크5','듀크6', '듀크7'],\n",
    "        'kor':[90, 80, 70, 70, 60, 70, 90],\n",
    "        'eng':[99, 98, 97, 46, 77, 56, 90],\n",
    "        'mat':[90, 70, 70, 60, 88, 99, 90],\n",
    "        }\n",
    "df = pd.DataFrame(data)\n",
    "\n",
    "print(df.iloc[:5])\n",
    "print(df.iloc[-5:])\n",
    "print(df.columns)\n",
    "print(df['name'])\n",
    "print(df.eng)\n",
    "#대괄호 내에서 \"리스트\"로 호출해야하는 점 주의\n",
    "print(df[['kor', 'mat']])\n",
    "print(\"iloc함수 사용 \", '-'*10)\n",
    "print(df.iloc[3])\n",
    "print(df.iloc[0,0])\n",
    "print(df.iloc[3,2])\n",
    "print(df.iloc[[2,3],2])\n",
    "print(df.iloc[[2,3],[2,3]])\n",
    "print(\"loc함수 사용 \", '-'*10)\n",
    "print(df.loc[3])\n",
    "print(df.loc[0,'name'])\n",
    "print(df.loc[3,'eng'])\n",
    "print(df.loc[[2,3],'eng'])\n",
    "print(df.loc[[2,3],['eng','mat']])"
   ]
  },
  {
   "cell_type": "code",
   "execution_count": 57,
   "id": "697f2f43-93f4-4ed9-815b-02c89c188680",
   "metadata": {},
   "outputs": [
    {
     "name": "stdout",
     "output_type": "stream",
     "text": [
      "      kor  eng  mat\n",
      "name               \n",
      "듀크1    90   99   90\n",
      "듀크2    80   98   70\n",
      "듀크3    70   97   70\n",
      "듀크4    70   46   60\n",
      "듀크5    60   77   88\n",
      "듀크6    70   56   99\n",
      "듀크7    90   90   90\n"
     ]
    }
   ],
   "source": [
    "#10\n",
    "print(df.set_index('name'))#inplace=True"
   ]
  }
 ],
 "metadata": {
  "kernelspec": {
   "display_name": "pydatavenv",
   "language": "python",
   "name": "pydatavenv"
  },
  "language_info": {
   "codemirror_mode": {
    "name": "ipython",
    "version": 3
   },
   "file_extension": ".py",
   "mimetype": "text/x-python",
   "name": "python",
   "nbconvert_exporter": "python",
   "pygments_lexer": "ipython3",
   "version": "3.8.11"
  }
 },
 "nbformat": 4,
 "nbformat_minor": 5
}
